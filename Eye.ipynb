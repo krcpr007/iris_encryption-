{
  "nbformat": 4,
  "nbformat_minor": 0,
  "metadata": {
    "colab": {
      "provenance": [],
      "include_colab_link": true
    },
    "kernelspec": {
      "name": "python3",
      "display_name": "Python 3"
    },
    "language_info": {
      "name": "python"
    }
  },
  "cells": [
    {
      "cell_type": "markdown",
      "metadata": {
        "id": "view-in-github",
        "colab_type": "text"
      },
      "source": [
        "<a href=\"https://colab.research.google.com/github/krcpr007/iris_encryption-/blob/main/Eye.ipynb\" target=\"_parent\"><img src=\"https://colab.research.google.com/assets/colab-badge.svg\" alt=\"Open In Colab\"/></a>"
      ]
    },
    {
      "cell_type": "code",
      "execution_count": null,
      "metadata": {
        "id": "XS0nhMnWafLZ",
        "colab": {
          "base_uri": "https://localhost:8080/"
        },
        "outputId": "c3624332-eb4c-46e3-e2ba-432a2770eea5"
      },
      "outputs": [
        {
          "output_type": "stream",
          "name": "stdout",
          "text": [
            "Mounted at /content/gdrive\n"
          ]
        }
      ],
      "source": [
        "from google.colab import drive\n",
        "drive.mount('/content/gdrive')\n"
      ]
    },
    {
      "cell_type": "code",
      "source": [
        "from PIL import Image\n",
        "import os\n",
        "import numpy as np\n",
        "image_folder = '/content/gdrive/MyDrive/iris/train/eye'\n",
        "images = []\n",
        "for filename in os.listdir(image_folder):\n",
        "    img = Image.open(os.path.join(image_folder, filename)).convert('L') # convert to grayscale\n",
        "    img = img.resize((64, 64)) # resize image to 64x64 pixels\n",
        "    images.append(img)"
      ],
      "metadata": {
        "id": "QSEfbx32dTpP"
      },
      "execution_count": null,
      "outputs": []
    },
    {
      "cell_type": "code",
      "source": [
        "print(images)"
      ],
      "metadata": {
        "id": "ZWF0l7hiYouy"
      },
      "execution_count": null,
      "outputs": []
    },
    {
      "cell_type": "code",
      "source": [
        "from sklearn.preprocessing import StandardScaler\n",
        "\n",
        "# convert images to numpy arrays\n",
        "X = []\n",
        "for img in images:\n",
        "    X.append(np.array(img).flatten())\n",
        "X = np.array(X)\n",
        "\n",
        "# normalize dataset\n",
        "scaler = StandardScaler()\n",
        "X_normalized = scaler.fit_transform(X)\n",
        "# print(X_normalized)"
      ],
      "metadata": {
        "id": "R_NG6LuTdZuS"
      },
      "execution_count": null,
      "outputs": []
    },
    {
      "cell_type": "code",
      "source": [
        "from tensorflow.keras import layers, models\n",
        "import tensorflow as tf\n",
        "import keras\n",
        "# define CNN model\n",
        "model = models.Sequential([\n",
        "    layers.Reshape((64, 64, 1), input_shape=(4096,)),\n",
        "    layers.Conv2D(32, (3, 3), activation='relu'),\n",
        "    layers.MaxPooling2D((2, 2)),\n",
        "    layers.Conv2D(64, (3, 3), activation='relu'),\n",
        "    layers.MaxPooling2D((2, 2)),\n",
        "    layers.Conv2D(64, (3, 3), activation='relu'),\n",
        "    layers.Flatten(),\n",
        "    layers.Dense(64, activation='relu'),\n",
        "    layers.Dense(3, activation='softmax')\n",
        "])\n",
        "\n",
        "# compile model\n",
        "model.compile(optimizer='adam',\n",
        "              loss='categorical_crossentropy',\n",
        "              metrics=['accuracy'])\n",
        "\n",
        "# train model\n",
        "y = np.array([0] * 50 + [1] * 50 + [2] * 50) # set target labels\n",
        "y_onehot = tf.one_hot(y, depth=3) # one-hot encode target labels\n",
        "X_normalized = X_normalized[:150] # taking only 150\n",
        "model.fit(X_normalized, y_onehot, epochs=10) #model fit\n",
        "# print('Number of images loaded:', len(X_normalized)) #328\n",
        "# print('Number of labels:', y_onehot.shape[0])  #150\n",
        "# keras.utils.plot_model(model, show_shapes=True)\n",
        "test_loss, test_acc = model.evaluate(X_normalized, y_onehot)\n",
        "print('Test loss:', test_loss)\n",
        "print('Test accuracy:', test_acc)"
      ],
      "metadata": {
        "id": "kOVSBUzjdurl",
        "colab": {
          "base_uri": "https://localhost:8080/"
        },
        "outputId": "1f329138-0247-418e-b415-60ee34a728a6"
      },
      "execution_count": null,
      "outputs": [
        {
          "output_type": "stream",
          "name": "stdout",
          "text": [
            "5/5 [==============================] - 1s 78ms/step - loss: 1.0991 - accuracy: 0.3467\n",
            "Test loss: 1.0990749597549438\n",
            "Test accuracy: 0.3466666638851166\n"
          ]
        }
      ]
    },
    {
      "cell_type": "code",
      "source": [],
      "metadata": {
        "id": "MURXVQAsSxKt"
      },
      "execution_count": null,
      "outputs": []
    },
    {
      "cell_type": "code",
      "source": [
        "# extract feature vector V1\n",
        "V1 = model.predict(X_normalized)\n",
        "# print(V1.shape)\n",
        "print(V1.flatten())"
      ],
      "metadata": {
        "id": "BOoRajogd3RA",
        "colab": {
          "base_uri": "https://localhost:8080/"
        },
        "outputId": "f741f23d-01ea-41db-9638-2a42a3bc8c9e"
      },
      "execution_count": null,
      "outputs": [
        {
          "output_type": "stream",
          "name": "stdout",
          "text": [
            "5/5 [==============================] - 0s 42ms/step\n",
            "[0.3059658  0.3430157  0.35101864 0.32250106 0.31464565 0.36285317\n",
            " 0.29938537 0.33485454 0.3657601  0.3077645  0.32563764 0.36659777\n",
            " 0.30063197 0.28687906 0.41248897 0.32054013 0.2992899  0.38016996\n",
            " 0.3097564  0.3176699  0.37257373 0.35060856 0.30473655 0.34465486\n",
            " 0.320456   0.3528013  0.32674268 0.3501     0.30983347 0.34006652\n",
            " 0.31081235 0.29670748 0.39248016 0.32263142 0.3496331  0.32773542\n",
            " 0.31437626 0.33655727 0.34906647 0.32228288 0.33193022 0.345787\n",
            " 0.32162157 0.33533794 0.34304053 0.29700732 0.3341986  0.36879408\n",
            " 0.33733323 0.35261407 0.31005266 0.30407324 0.33600682 0.3599199\n",
            " 0.32684228 0.30969712 0.36346063 0.33460584 0.30326468 0.36212942\n",
            " 0.3128649  0.35208797 0.33504716 0.32867894 0.33887106 0.33244997\n",
            " 0.31305188 0.3379925  0.34895572 0.3099953  0.33489862 0.35510606\n",
            " 0.31124613 0.35226578 0.33648804 0.32012615 0.34789485 0.33197904\n",
            " 0.314665   0.32190302 0.36343208 0.2977313  0.3393835  0.36288515\n",
            " 0.31644496 0.3504336  0.33312142 0.32630664 0.32719314 0.34650013\n",
            " 0.32166573 0.3143861  0.36394826 0.312355   0.3242525  0.36339253\n",
            " 0.35930246 0.31784028 0.3228571  0.31926373 0.3624092  0.31832698\n",
            " 0.3584917  0.3016872  0.339821   0.31720135 0.33297536 0.3498233\n",
            " 0.38377804 0.2617558  0.35446614 0.34473675 0.3326135  0.3226497\n",
            " 0.31459457 0.3174936  0.36791185 0.371063   0.31056756 0.31836936\n",
            " 0.32043    0.30906588 0.3705041  0.33313334 0.31565225 0.35121447\n",
            " 0.34923574 0.3091919  0.34157225 0.34886718 0.33848962 0.3126432\n",
            " 0.34517357 0.3128256  0.34200084 0.35101107 0.29517207 0.35381678\n",
            " 0.34966224 0.3170548  0.333283   0.31810677 0.35632405 0.32556912\n",
            " 0.31265476 0.32841983 0.35892534 0.30724016 0.3512084  0.34155145\n",
            " 0.33327493 0.32980567 0.33691946 0.36857894 0.2972882  0.33413276\n",
            " 0.33983722 0.3266597  0.33350304 0.29408267 0.32850125 0.3774161\n",
            " 0.3382961  0.31917155 0.3425323  0.33978832 0.33815452 0.3220573\n",
            " 0.34188586 0.34073776 0.31737626 0.30165038 0.35146776 0.34688196\n",
            " 0.33997193 0.34039983 0.31962824 0.31822282 0.30502832 0.3767489\n",
            " 0.35522872 0.3168292  0.32794213 0.32805628 0.30956337 0.36238036\n",
            " 0.3130426  0.30415735 0.38280007 0.31171513 0.35455304 0.33373174\n",
            " 0.34809008 0.32041922 0.33149073 0.29437247 0.3530409  0.3525867\n",
            " 0.33653808 0.3288392  0.3346227  0.30833042 0.3422971  0.34937245\n",
            " 0.3302461  0.3330651  0.33668882 0.2961381  0.3689152  0.3349467\n",
            " 0.34158078 0.3180162  0.340403   0.32853752 0.33375385 0.33770856\n",
            " 0.32687253 0.3057456  0.36738187 0.28152648 0.3409261  0.37754738\n",
            " 0.28481758 0.3162288  0.39895368 0.317548   0.33296356 0.34948838\n",
            " 0.33752796 0.32086295 0.3416091  0.33721998 0.32224587 0.340534\n",
            " 0.33856744 0.30348405 0.35794845 0.32929215 0.32497734 0.3457304\n",
            " 0.32734188 0.32340762 0.34925044 0.32082185 0.32595754 0.35322055\n",
            " 0.3668797  0.30733797 0.32578224 0.3326661  0.31492746 0.35240635\n",
            " 0.3363052  0.3209133  0.34278145 0.33917177 0.3116215  0.34920678\n",
            " 0.32902566 0.31793633 0.35303813 0.32481515 0.3372571  0.33792767\n",
            " 0.32016394 0.31167972 0.36815637 0.31485817 0.35591444 0.32922724\n",
            " 0.33548173 0.32851893 0.33599934 0.31481257 0.3383343  0.3468531\n",
            " 0.3337272  0.34091827 0.32535446 0.33550525 0.31687745 0.3476172\n",
            " 0.30633724 0.3417339  0.3519289  0.31898344 0.3216391  0.35937747\n",
            " 0.33853877 0.32831046 0.33315077 0.31397757 0.331792   0.35423043\n",
            " 0.37587178 0.31505993 0.30906826 0.30723917 0.34795827 0.3448025\n",
            " 0.3705827  0.31627122 0.3131461  0.34183654 0.33830816 0.31985518\n",
            " 0.2714445  0.3523422  0.37621334 0.32346043 0.34536108 0.33117843\n",
            " 0.3638501  0.3169942  0.3191557  0.32063586 0.32762086 0.3517432\n",
            " 0.3366129  0.32047313 0.3429139  0.29906633 0.31546897 0.38546458\n",
            " 0.30172515 0.32488683 0.37338802 0.32121205 0.34382907 0.33495894\n",
            " 0.3215856  0.34597084 0.3324435  0.33258638 0.3081814  0.35923225\n",
            " 0.3165222  0.3322678  0.35121003 0.3313963  0.31706607 0.3515377\n",
            " 0.34218985 0.3271749  0.33063528 0.36190763 0.27981514 0.3582772\n",
            " 0.31059548 0.31458938 0.3748151  0.3287886  0.33386073 0.33735073\n",
            " 0.34123978 0.31644678 0.34231335 0.30749902 0.3263892  0.3661118\n",
            " 0.32150942 0.32685974 0.3516308  0.33446497 0.32999933 0.33553568\n",
            " 0.3349968  0.32984015 0.33516315 0.31576088 0.32791144 0.3563276\n",
            " 0.3363056  0.32866433 0.33503    0.3077508  0.35416895 0.33808026\n",
            " 0.31753546 0.31455714 0.36790743 0.32905376 0.3275509  0.34339535\n",
            " 0.33907616 0.31372634 0.34719744 0.3276397  0.32791677 0.34444353\n",
            " 0.33797768 0.33480096 0.32722133 0.29374948 0.32061702 0.38563353\n",
            " 0.31537154 0.3300443  0.35458407 0.30693287 0.34086496 0.35220224\n",
            " 0.33788413 0.34474882 0.31736705 0.28485402 0.34206954 0.3730764\n",
            " 0.3055819  0.33284548 0.3615726  0.3247177  0.34435114 0.33093107\n",
            " 0.3310185  0.33391854 0.33506304 0.3739584  0.29291466 0.33312702\n",
            " 0.29158792 0.34768286 0.36072922 0.3208996  0.35475573 0.3243446\n",
            " 0.29608613 0.32156932 0.38234454 0.3118476  0.3416464  0.3465061\n",
            " 0.29408866 0.31243542 0.39347586 0.31557134 0.341453   0.3429757\n",
            " 0.28934056 0.3464842  0.36417523 0.3090941  0.35155705 0.33934882\n",
            " 0.30553642 0.36066696 0.33379656 0.31314173 0.31185934 0.37499896]\n"
          ]
        }
      ]
    },
    {
      "cell_type": "code",
      "source": [
        "# !pip install bchlib\n",
        "import bchlib\n",
        "# create a bch object\n",
        "BCH_POLYNOMIAL = 8219\n",
        "BCH_BITS = 72\n",
        "bch = bchlib.BCH(BCH_POLYNOMIAL, BCH_BITS)\n",
        "v_encoded = bch.encode(V1.flatten())\n",
        "print(v_encoded)"
      ],
      "metadata": {
        "colab": {
          "base_uri": "https://localhost:8080/"
        },
        "id": "SuhuBElc5bDR",
        "outputId": "85d28705-6645-4be6-967e-adff4d71fcf9"
      },
      "execution_count": null,
      "outputs": [
        {
          "output_type": "stream",
          "name": "stdout",
          "text": [
            "bytearray(b'\\xd4\\xaa\\xe8\\xe8\\xcem\\xbd\\x8b\\xf2\\x06\\xfb\\xd0\\t5)\\xa5ZOE\\xb4\\xa8\\x14\\xa3\\xf6\\x8b*I\\xc1\\xd5\\x84\\xf8u\\xeeu\\xb0\\xaf\\xb4\\xb4\\x0e.G\\xf9>NF\\xf9\\xa1\\x19]\\x84\\xfe\\xd5\\x89\\x19\\x96\\x80\\xf5i]&\\xb7D\\x7f\\xedG\\xc8\\x8d\\xc1\\x8d\\x86o\\x18\\x1a\\x8e\\xcdD\\xdd;\\xa6\\xfb!\\xf4\\xc7\\xb1\\xae\\xf4\\x18\\x03y\\x03V\\xb5q\\xd9\\xdf\\xb6\\xc8\\xecT\\xe0\\xa1A\\x12\\x03\\x9c\\x8ak\\xd4\\xc1o\\x05X\\xc0\\r\\x15\\x80\\x00')\n"
          ]
        }
      ]
    },
    {
      "cell_type": "code",
      "source": [
        "!pip install reedsolo"
      ],
      "metadata": {
        "colab": {
          "base_uri": "https://localhost:8080/"
        },
        "id": "eqfjo_jtaGqT",
        "outputId": "9ab749df-b385-4192-ddb5-ba71abcee951"
      },
      "execution_count": null,
      "outputs": [
        {
          "output_type": "stream",
          "name": "stdout",
          "text": [
            "Looking in indexes: https://pypi.org/simple, https://us-python.pkg.dev/colab-wheels/public/simple/\n",
            "Collecting reedsolo\n",
            "  Downloading reedsolo-1.7.0-py3-none-any.whl (32 kB)\n",
            "Installing collected packages: reedsolo\n",
            "Successfully installed reedsolo-1.7.0\n"
          ]
        }
      ]
    },
    {
      "cell_type": "code",
      "source": [
        "\n",
        "from reedsolo import RSCodec\n",
        "\n",
        "# encode feature vector V using RS code\n",
        "rs = RSCodec(10)\n",
        "V_encoded = rs.encode(V1.flatten())\n",
        "print(V_encoded)"
      ],
      "metadata": {
        "id": "u3H_crXSd6mK",
        "colab": {
          "base_uri": "https://localhost:8080/"
        },
        "outputId": "abde16ca-724c-478b-c101-0143e5ae3637"
      },
      "execution_count": null,
      "outputs": [
        {
          "output_type": "stream",
          "name": "stdout",
          "text": [
            "bytearray(b'\\x8d\\xa7\\x9c>\\xc1\\x9f\\xaf>\\xb7\\xb8\\xb3>\\xdc\\x1e\\xa5><\\x19\\xa1>\\xe4\\xc7\\xb9>\\nI\\x99>\\x0er\\xab>\\xe8D\\xbb>O\\x93\\x9d>\\xfa\\xb9\\xa6>\\xb4\\xb2\\xbb>o\\xec\\x99>\\xd0\\xe1\\x92>\\xc11\\xd3>\\xd6\\x1d\\xa4>\\x87<\\x99>\\xa3\\xa5\\xc2>d\\x98\\x9e>\\xa1\\xa5\\xa2>\\xfc\\xc1\\xbe>\\xf7\\x82\\xb3>n\\x06\\x9c>\\x9av\\xb0>\\xcf\\x12\\xa4>_\\xa2\\xb4>\\xd1J\\xa7>O@\\xb3>~\\xa2\\x9e>3\\x1d\\xae>\\xcc\"\\x9f>\\x0b\\xea\\x97>)\\xf3\\xc8>\\xf2/\\xa5>\\x1c\\x03\\xb3>\\xf0\\xcc\\xa7>\\xed\\xf5\\xa0><Q\\xac>\\xd7\\xb8\\xb2>C\\x02\\xa5>\\xc2\\xf2\\xa9>\\xfe\\n\\xb1>\\x95\\xab\\xa4>j\\xb1\\xab>\\x02\\xa3\\xaf>X\\x11\\x98>\\x14\\x1c\\xab>\\x94\\xd2\\xbc>\\xf1\\xb6\\xac>\\xd5\\x89\\xb4>9\\xbf\\x9e>}\\xaf\\x9b>\\x16\\t\\xac>lG\\xb8>\\xdfW\\xa7>\\x9f\\x90\\x9e>\\x83\\x17\\xba>uQ\\xab>\\x82E\\x9b>\\x07i\\xb9>\\xd4/\\xa0>\\xe0D\\xb4>M\\x8b\\xab>\\x9bH\\xa8>\\x82\\x80\\xad>\\xe26\\xaa>VH\\xa0>Z\\r\\xad>S\\xaa\\xb2>\\xb4\\xb7\\x9e>\\xd5w\\xab>v\\xd0\\xb5>\\xa7[\\x9f>.\\\\\\xb4>)H\\xac>\\x93\\xe7\\xa3>F\\x1f\\xb2>(\\xf9\\xa9>\\xc5\\x1b\\xa1>y\\xd0\\xa4>\\xc5\\x13\\xba>=p\\x98>\\xad\\xc3\\xad>\\x15\\xcc\\xb9>\\x13\\x05\\xa2>\\x08l\\xb3>\\xe4\\x8e\\xaa>\\xaa\\x11\\xa7>\\xdc\\x85\\xa7>wh\\xb1>_\\xb1\\xa4>7\\xf7\\xa0>mW\\xba>\\xff\\xec\\x9f>l\\x04\\xa6>\\x96\\x0e\\xba>~\\xf6\\xb7>\\xf6\\xbb\\xa2>\\x87M\\xa5>\\x89v\\xa3>\\xb3\\x8d\\xb9>\\xc1\\xfb\\xa2>9\\x8c\\xb7>\\xbfv\\x9a>\\x05\\xfd\\xad>7h\\xa2>\\xbf{\\xaa>\\n\\x1c\\xb3>\\x8e~\\xc4>\\xdb\\x04\\x86>\\x96|\\xb5>V\\x81\\xb0>QL\\xaa>W2\\xa5>\\x8a\\x12\\xa1>\\x85\\x8e\\xa2>\\xf1^\\xbc>\\xf8\\xfb\\xbd>\\xb6\\x02\\x9f>O\\x01\\xa3>g\\x0f\\xa4>\\xe2=\\x9e>\\xb7\\xb2\\xbd>t\\x90\\xaa>,\\x9d\\xa1>b\\xd2\\xb3>\\x07\\xcf\\xb2>gN\\x9e>\\x8f\\xe2\\xae>\\xb8\\x9e\\xb2>\\x83N\\xad>\\xc5\\x12\\xa0>\\x97\\xba\\xb0>\\xad*\\xa0>\\xbc\\x1a\\xaf>\\xb9\\xb7\\xb3>\\xcb \\x97>y\\'\\xb5>\\xee\\x06\\xb3>\\x02U\\xa2>\\x12\\xa4\\xaa>\\xe4\\xde\\xa2>\\x1bp\\xb6>\\xff\\xb0\\xa6>I\\x14\\xa0>\\xa5&\\xa8>\\x10\\xc5\\xb7>\\x95N\\x9d>\\x96\\xd1\\xb3>\\xd5\\xdf\\xae>\\x03\\xa3\\xaa>J\\xdc\\xa8>\\xb5\\x80\\xac>a\\xb6\\xbc>)6\\x98>s\\x13\\xab>%\\xff\\xad>\\xf1?\\xa7>\\xe9\\xc0\\xaa>\\x01\\x92\\x96>Q1\\xa8>\\xaf<\\xc1>%5\\xad>tj\\xa3>e`\\xaf>\\xbc\\xf8\\xad>\\x97\"\\xad>\\xb2\\xe4\\xa4>\\xaa\\x0b\\xaf>.u\\xae>$\\x7f\\xa2>\\xebq\\x9a>\\x95\\xf3\\xb3>\\x83\\x9a\\xb1>\\xcd\\x10\\xae>\\xe3H\\xae>P\\xa6\\xa3>\\x1a\\xee\\xa2>\\xac,\\x9c>;\\xe5\\xc0>\\x8a\\xe0\\xb5>p7\\xa2>\\x08\\xe8\\xa7>\\xfe\\xf6\\xa7>\\x17\\x7f\\x9e>\\xeb\\x89\\xb9>\\x1fG\\xa0>\\x83\\xba\\x9b>_\\xfe\\xc3> \\x99\\x9f>\\xfa\\x87\\xb5>\\xe3\\xde\\xaa>\\xdd8\\xb2>\\xfd\\r\\xa4>\\'\\xb9\\xa9>\\xfd\\xb7\\x96>\\xc7\\xc1\\xb4>>\\x86\\xb4>\\xb8N\\xac>\\x9d]\\xa8>\\xabS\\xab>|\\xdd\\x9d>\\x91A\\xaf>\\xf2\\xe0\\xb2>\\x04\\x16\\xa9>\\x82\\x87\\xaa>zb\\xac>j\\x9f\\x97>t\\xe2\\xbc>\"~\\xab>\\xad\\xe3\\xae>\\x05\\xd3\\xa2>MI\\xae>\\x126\\xa8>\\xc9\\xe1\\xaa>#\\xe8\\xac>\\xd6[\\xa7>\\xb0\\x8a\\x9c>z\\x19\\xbc>=$\\x90>\\xde\\x8d\\xae>\\xe4M\\xc1>\\x9c\\xd3\\x91>\\xbe\\xe8\\xa1>\\xa8C\\xcc>\\xa7\\x95\\xa2>3z\\xaa>$\\xf0\\xb2>w\\xd0\\xac>&H\\xa4>c\\xe7\\xae>\\x19\\xa8\\xac>i\\xfd\\xa4>yZ\\xae>\\xb6X\\xad>Cb\\x9b>\\x05E\\xb7>\\xfb\\x98\\xa8>nc\\xa6>\\x93\\x03\\xb1>[\\x99\\xa7>\\xaf\\x95\\xa5>\\xf4\\xd0\\xb2>\\xc3B\\xa4>\\xe8\\xe3\\xa6>\\x84\\x0f\\'X\\xca\\x12\\xbfg\\xb1\\xf3S\\xd9\\xb4>\\xa8\\xd7\\xbb>g[\\x9d>\\xee\\xcc\\xa6>6S\\xaa>,>\\xa1>\\x9bn\\xb4>20\\xac>\\xc0N\\xa4>\\r\\x81\\xaf>\\xec\\xa7\\xad>\\xda\\x8c\\x9f>;\\xcb\\xb2>\\rv\\xa8>\\x8d\\xc8\\xa2>j\\xc1\\xb4>,N\\xa6>\\xf6\\xac\\xac>\\xdb\\x04\\xad>\\x87\\xec\\xa3>|\\x94\\x9f>\\xfe~\\xbc>\\x175\\xa1>k:\\xb6>y\\x90\\xa8>C\\xc4\\xab>\\xa23\\xa8>\\x1b\\x08\\xac>\\x1d/\\xa1>\\':\\xad>\\xbb\\x96\\xb1>K\\xde\\xaa>\\xd7\\x8c\\xae>\\xdc\\x94\\xa6>X\\xc7\\xab>\\xc3=\\xa2>\\xe2\\xfa\\xb1><\\xd8\\x9c>\\xbf\\xf7\\xae>\\x060\\xb4>\\xccQ\\xa3>\\xe1\\xad\\xa4>S\\x00\\xb8>\\xf4T\\xad>O\\x18\\xa8>\\xbd\\x92\\xaa>\\xab\\xc1\\xa0>\\xa4\\xe0\\xa9>\\xb1]\\xb5>Dr\\xc0>\\x89O\\xa1>2>\\x9e>tN\\x9d>\\x96\\'\\xb2>\\xf4\\x89\\xb0>\\x04\\xbd\\xbd>M\\xee\\xa1>\\xb0T\\xa0>3\\x05\\xaf>\\xba6\\xad>\\x0f\\xc4\\xa3>\\xc6\\xfa\\x8a>2f\\xb4>\\t\\x9f\\xc0>\\x9b\\x9c\\xa5>+\\xd3\\xb0>8\\x90\\xa9>\\x8fJ\\xba>\\x10M\\xa2>`h\\xa3>b*\\xa4>\\xec\\xbd\\xa7>\\xaf\\x17\\xb4>\\x87X\\xac>\\x0e\\x15\\xa4>i\\x92\\xaf>9\\x1f\\x99>&\\x85\\xa1>\\x9d[\\xc5>\\xb8{\\x9a>\\x91W\\xa6>\\xb7,\\xbf>\\xe8u\\xa4>]\\n\\xb0>\\xbd\\x7f\\xab>\\xde\\xa6\\xa4>\\x17#\\xb1>\\t6\\xaa>\\xc3H\\xaa>\\xf4\\xc9\\x9d>J\\xed\\xb7>3\\x0f\\xa2>\\x01\\x1f\\xaa>\\xcd\\xd1\\xb3>\\xc7\\xac\\xa9>|V\\xa2>\\xc0\\xfc\\xb3>\\x823\\xaf>x\\x83\\xa7>\\x07I\\xa9>\\xf5K\\xb9>\\xeeC\\x8f>\\x1cp\\xb7>_\\x06\\x9f>\\xdc\\x11\\xa1>\\xc4\\xe7\\xbf>\\xfbV\\xa8>\\xcb\\xef\\xaa><\\xb9\\xac>\\xfb\\xb6\\xae>P\\x05\\xa2>\\xb2C\\xaf>\\x83p\\x9d>|\\x1c\\xa7>\\x01s\\xbb>\\xe2\\x9c\\xa4>)Z\\xa7>\\xf4\\x08\\xb4>\\xfe>\\xab>\\xac\\xf5\\xa8>U\\xcb\\xab>\\xb3\\x84\\xab>\\xcf\\xe0\\xa8>\\x81\\x9a\\xab>i\\xab\\xa1>\\x02\\xe4\\xa7>\\x92p\\xb6>?0\\xac>\\xb1F\\xa8>\\r\\x89\\xab>\\x83\\x91\\x9d>\\xa2U\\xb5>\\xdb\\x18\\xad>\\x02\\x94\\xa2>\\xa2\\r\\xa1>]^\\xbc>\\xbcy\\xa8>\\xc0\\xb4\\xa7>\\x84\\xd1\\xaf>d\\x9b\\xad>\\xbd\\xa0\\xa0>\\xdd\\xc3\\xb1>d\\xc0\\xa7>\\xb5\\xe4\\xa7>\\xe7Z\\xb0>i\\x0b\\xad>\\x08k\\xab>\\x8e\\x89\\xa7>Uf\\x96>\\xea\\'\\xa4>\\xc2q\\xc5>ax\\xa1>\\x91\\xfb\\xa8>\\x0b\\x8c\\xb5>N&\\x9d>\\xda\\x85\\xae>\\xdaS\\xb4>&\\xff\\xac>\\xeb\\x82\\xb0>\\xef}\\xa2>c\\xd8\\x91>\\xbd#\\xaf>\\xdf\\x03\\xbf>;u\\x9c>\\xb9j\\xaa>\\x0b \\xb9>fA\\xa6>\\xcbN\\xb0>\\xcco\\xa9>B{\\xa9>_\\xf7\\xaa>b\\x8d\\xab>zw\\xbf>\\xe9\\xf8\\x95>\\xa0\\x8f\\xaa>\\x03K\\x95>}\\x03\\xb2>\\x80\\xb1\\xb8>\\xf4L\\xa4>\\x8b\\xa2\\xb5>\\x7f\\x10\\xa6>\\x9a\\x98\\x97>\\xbc\\xa4\\xa4>\\xaa\\xc2\\xc3>}\\xaa\\x9f>G\\xec\\xae>?i\\xb1>\\xca\\x92\\x96>\\x89\\xf7\\x9f>\\xabu\\xc9>\\x91\\x92\\xa1>\\xed\\xd2\\xae>\\x83\\x9a\\xaf>r$\\x94>af\\xb1>-u\\xba>\\x95A\\x9e>I\\xff\\xb3>!\\xbf\\xad>Eo\\x9c>W\\xa9\\xb8>b\\xe7\\xaa>\\x1dT\\xa0>\\x07\\xac\\x9f>\\xdd\\xff\\xbf>\\x15qg\\x02\\x7f\\xa0\\xe7\\x8d\\xd9R')\n"
          ]
        }
      ]
    },
    {
      "cell_type": "code",
      "source": [
        "!pip install  pyturbo\n",
        "from pyturbo import TurboEncoder\n",
        "\n",
        "# encode feature vector V using Turbo code\n",
        "encoder = TurboEncoder()\n",
        "V_encoded = encoder.encode(V1.flatten())\n",
        "print(V_encoded)\n"
      ],
      "metadata": {
        "id": "mT5sX4q-HkWO"
      },
      "execution_count": null,
      "outputs": []
    },
    {
      "cell_type": "code",
      "source": [
        "# encrypt image using XOR operation\n",
        "img = Image.open(os.path.join(image_folder, '1-543.JPG')).convert('L') # load example image\n",
        "img = img.resize((64, 64)) # resize image to 64x64 pixels\n",
        "X = np.array(img).flatten() # convert image to numpy array\n",
        "X_normalized = scaler.transform(X.reshape(1, -1)) # normalize image\n",
        "\n",
        "V2 = model.predict(X_normalized) # extract feature vector V2\n",
        "V_encoded = rs.encode(V2.flatten()) # encode feature vector V2 using RS code\n",
        "# v_encoded = bch.encode(V1.flatten()) # encode feature vector v2 using bch code\n",
        "key = V_encoded\n",
        "print(key)"
      ],
      "metadata": {
        "id": "2bCRWQlvd9iK",
        "colab": {
          "base_uri": "https://localhost:8080/"
        },
        "outputId": "488dec54-9134-4ff6-9b5f-e9311497596f"
      },
      "execution_count": null,
      "outputs": [
        {
          "output_type": "stream",
          "name": "stdout",
          "text": [
            "1/1 [==============================] - 0s 102ms/step\n",
            "bytearray(b'\\nI\\x99>\\x0er\\xab>\\xe8D\\xbb>1\\xbd`\\xf6\\x9fs\\x9c\\xa6\\x86n')\n"
          ]
        }
      ]
    },
    {
      "cell_type": "code",
      "source": [
        "import numpy as np\n",
        "from scipy.stats import chisquare\n",
        "import math\n",
        "import matplotlib.pyplot as plt\n",
        "from scipy import stats\n",
        "# converting key into binary\n",
        "binary_key = ''.join(format(byte, '08b') for byte in key)\n",
        "print(binary_key)\n"
      ],
      "metadata": {
        "colab": {
          "base_uri": "https://localhost:8080/"
        },
        "id": "zhc7AXSJbQjG",
        "outputId": "dff10163-caf0-4137-fdbb-02a38739c53d"
      },
      "execution_count": null,
      "outputs": [
        {
          "output_type": "stream",
          "name": "stdout",
          "text": [
            "10101111110111100101010100111111001011001110110111001110001110111110000000001101001000100011111000011101100101101101000101100101110101101010010111100011000110110001001101111001\n"
          ]
        }
      ]
    },
    {
      "cell_type": "code",
      "source": [
        "import math\n",
        "import random\n",
        "import matplotlib.pyplot as plt\n",
        "def entropy_test(key):\n",
        "    # Convert key to binary string\n",
        "    binary_key = ''.join(format(byte, '08b') for byte in key)\n",
        "\n",
        "    # Count the number of 0's and 1's\n",
        "    num_zeros = binary_key.count('0')\n",
        "    num_ones = binary_key.count('1')\n",
        "\n",
        "    # Compute the total number of bits\n",
        "    total_bits = len(binary_key)\n",
        "\n",
        "    # Compute the probability of 0's and 1's\n",
        "    p_zero = num_zeros / total_bits\n",
        "    p_one = num_ones / total_bits\n",
        "\n",
        "    # Compute the entropy\n",
        "    entropy = -(p_zero * math.log2(p_zero) + p_one * math.log2(p_one))\n",
        "\n",
        "    return entropy\n",
        "entropy = entropy_test(key)\n",
        "print(\"Entropy:\", entropy)\n",
        "# Generate keys and calculate their entropy values\n",
        "num_keys = 1000\n",
        "key_length = 16\n",
        "keys = [bytes(random.getrandbits(8) for _ in range(key_length)) for _ in range(num_keys)]\n",
        "entropies = [entropy_test(key) for key in keys]\n",
        "\n",
        "# Plot the entropy values\n",
        "plt.hist(entropies, bins=20)\n",
        "plt.xlabel('Entropy')\n",
        "plt.ylabel('Frequency')\n",
        "plt.title('Entropy Histogram')\n",
        "plt.show()"
      ],
      "metadata": {
        "colab": {
          "base_uri": "https://localhost:8080/",
          "height": 489
        },
        "id": "pBn__6-e5Q-C",
        "outputId": "12fbd283-1bfe-464e-e067-de9eb4f4aaa9"
      },
      "execution_count": null,
      "outputs": [
        {
          "output_type": "stream",
          "name": "stdout",
          "text": [
            "Entropy: 0.9985090989176322\n"
          ]
        },
        {
          "output_type": "display_data",
          "data": {
            "text/plain": [
              "<Figure size 640x480 with 1 Axes>"
            ],
            "image/png": "[encoded data removed]"
          },
          "metadata": {}
        }
      ]
    },
    {
      "cell_type": "code",
      "source": [
        "from scipy.stats import pearsonr\n",
        "# correlation test\n",
        "def correlation_test(key):\n",
        "    # Convert key to binary string\n",
        "    binary_key = ''.join(format(byte, '08b') for byte in key)\n",
        "\n",
        "    # Compute the autocorrelation function\n",
        "    autocorr = np.correlate(np.fromstring(binary_key, 'u1') - ord('0'), np.fromstring(binary_key, 'u1') - ord('0'), mode='full')\n",
        "    autocorr = autocorr[len(binary_key)-1:]\n",
        "\n",
        "    # Compute the correlation coefficient and p-value\n",
        "    corr_coef, p_value = pearsonr(autocorr, range(1, len(autocorr) + 1))\n",
        "\n",
        "    return p_value\n",
        "p_value = correlation_test(key)\n",
        "print(\"Correlation test p-value:\", p_value)\n",
        "# Generate keys and calculate their correlation p-values\n",
        "num_keys = 1000\n",
        "key_length = 16\n",
        "keys = [bytes(random.getrandbits(8) for _ in range(key_length)) for _ in range(num_keys)]\n",
        "p_values = [correlation_test(key) for key in keys]\n",
        "# Plot the correlation p-values\n",
        "plt.hist(p_values, bins=20)\n",
        "plt.xlabel('P-value')\n",
        "plt.ylabel('Frequency')\n",
        "plt.title('Correlation P-value Histogram')\n",
        "plt.show()"
      ],
      "metadata": {
        "colab": {
          "base_uri": "https://localhost:8080/",
          "height": 544
        },
        "id": "8oqxhnT2BiRl",
        "outputId": "b05713ac-6e2d-4612-92ec-ec3757e5ab70"
      },
      "execution_count": null,
      "outputs": [
        {
          "output_type": "stream",
          "name": "stderr",
          "text": [
            "<ipython-input-24-788c83775ab0>:8: DeprecationWarning: The binary mode of fromstring is deprecated, as it behaves surprisingly on unicode inputs. Use frombuffer instead\n",
            "  autocorr = np.correlate(np.fromstring(binary_key, 'u1') - ord('0'), np.fromstring(binary_key, 'u1') - ord('0'), mode='full')\n"
          ]
        },
        {
          "output_type": "stream",
          "name": "stdout",
          "text": [
            "Correlation test p-value: 8.117154957640179e-107\n"
          ]
        },
        {
          "output_type": "display_data",
          "data": {
            "text/plain": [
              "<Figure size 640x480 with 1 Axes>"
            ],
            "image/png": "[encoded data removed]"
          },
          "metadata": {}
        }
      ]
    },
    {
      "cell_type": "code",
      "source": [
        "img = Image.open(os.path.join(image_folder, '1-543.JPG')).convert('L') # load example image\n",
        "img = img.resize((64, 64)) # resize image to 64x64 pixels\n",
        "X = np.array(img).flatten() # convert image to numpy array\n",
        "\n",
        "# reshape key to match the shape of X\n",
        "key_reshaped = np.tile(key, len(X) // len(key) + 1)[:len(X)]\n",
        "\n",
        "# encrypt the image using XOR operation\n",
        "X_encrypted = bytearray(X ^ key_reshaped)\n",
        "save_encrypted_img_folder = \"/content/gdrive/MyDrive/Encrypted_Images\"\n",
        "# save the encrypted image\n",
        "img_encrypted = Image.frombytes('L', (64, 64), bytes(X_encrypted))\n",
        "img_encrypted.save(os.path.join(save_encrypted_img_folder, 'RS.jpg'))\n"
      ],
      "metadata": {
        "id": "1vM9iOjchkfJ"
      },
      "execution_count": null,
      "outputs": []
    },
    {
      "cell_type": "code",
      "source": [
        "import numpy as np\n",
        "from PIL import Image\n",
        "image_folder = '/content/gdrive/MyDrive/iris/train/eye'\n",
        "save_encrypted_img_folder = \"/content/gdrive/MyDrive/Encrypted_Images\"\n",
        "# Load the original and encrypted images\n",
        "original_image = Image.open(os.path.join(image_folder, '1-543.JPG'))\n",
        "encrypted_image = Image.open(os.path.join(save_encrypted_img_folder, 'RS.jpg'))\n",
        "original_image = original_image.resize((64, 64))\n",
        "# Convert the images to grayscale\n",
        "original_image = original_image.convert('L')\n",
        "encrypted_image = encrypted_image.convert('L')\n",
        "\n",
        "# Convert the images to numpy arrays for faster processing\n",
        "original_array = np.array(original_image)\n",
        "encrypted_array = np.array(encrypted_image)\n",
        "\n",
        "# Calculate the number of pixels in the image\n",
        "N = original_array.size\n",
        "\n",
        "# Calculate the number of pixels that have changed between the original and encrypted images\n",
        "diff_array = np.abs(original_array - encrypted_array)\n",
        "Nc = np.count_nonzero(diff_array)\n",
        "\n",
        "# Calculate NPCR\n",
        "NPCR = (Nc/N) * 100\n",
        "\n",
        "print('NPCR: {:.2f}%'.format(NPCR))\n",
        "# bch->99.78\n",
        "# RS ->99.61"
      ],
      "metadata": {
        "colab": {
          "base_uri": "https://localhost:8080/"
        },
        "id": "-47Y6U2DFbRM",
        "outputId": "199e3688-ffe3-4153-ec16-5bd3a01c891d"
      },
      "execution_count": null,
      "outputs": [
        {
          "output_type": "stream",
          "name": "stdout",
          "text": [
            "NPCR: 99.61%\n"
          ]
        }
      ]
    },
    {
      "cell_type": "code",
      "source": [
        "import cv2\n",
        "image_folder = '/content/gdrive/MyDrive/iris/train/eye'\n",
        "save_encrypted_img_folder = \"/content/gdrive/MyDrive/Encrypted_Images\"\n",
        "encrypted_image1 = np.array(Image.open(os.path.join(save_encrypted_img_folder, 'BCH.jpg')))\n",
        "encrypted_image2 = np.array(Image.open(os.path.join(save_encrypted_img_folder, 'RS.jpg')))\n",
        "\n",
        "# Compute the absolute difference between the two images\n",
        "diff = cv2.absdiff(encrypted_image1, encrypted_image2)\n",
        "\n",
        "# Compute the mean intensity value of the difference image\n",
        "mean_intensity = np.sum(diff) / (diff.shape[0] * diff.shape[1])\n",
        "\n",
        "# Compute the UACI value as a percentage\n",
        "uaci = (mean_intensity / 255) * 100\n",
        "\n",
        "# Print the UACI value\n",
        "print(\"UACI is: %.2f%%\" % uaci)\n",
        "# UACI is: 27.39%"
      ],
      "metadata": {
        "colab": {
          "base_uri": "https://localhost:8080/"
        },
        "id": "sFt95QHqIerz",
        "outputId": "8643df64-cbb0-42fb-d603-8a93767d1caf"
      },
      "execution_count": null,
      "outputs": [
        {
          "output_type": "stream",
          "name": "stdout",
          "text": [
            "UACI is: 27.39%\n"
          ]
        }
      ]
    },
    {
      "cell_type": "code",
      "source": [],
      "metadata": {
        "id": "DL3qBiolIs9x"
      },
      "execution_count": null,
      "outputs": []
    }
  ]
}