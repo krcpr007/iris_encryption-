{
  "nbformat": 4,
  "nbformat_minor": 0,
  "metadata": {
    "colab": {
      "provenance": [],
      "authorship_tag": "ABX9TyPnwULx1+etIUS3UJQ3bv/s",
      "include_colab_link": true
    },
    "kernelspec": {
      "name": "python3",
      "display_name": "Python 3"
    },
    "language_info": {
      "name": "python"
    }
  },
  "cells": [
    {
      "cell_type": "markdown",
      "metadata": {
        "id": "view-in-github",
        "colab_type": "text"
      },
      "source": [
        "<a href=\"https://colab.research.google.com/github/krcpr007/iris_encryption-/blob/main/Iris.ipynb\" target=\"_parent\"><img src=\"https://colab.research.google.com/assets/colab-badge.svg\" alt=\"Open In Colab\"/></a>"
      ]
    },
    {
      "cell_type": "code",
      "execution_count": null,
      "metadata": {
        "colab": {
          "base_uri": "https://localhost:8080/"
        },
        "id": "SgS_tQsxzwod",
        "outputId": "d0706377-e0b0-4ca5-cb01-73a184f47418"
      },
      "outputs": [
        {
          "output_type": "stream",
          "name": "stdout",
          "text": [
            "Mounted at /content/gdrive\n"
          ]
        }
      ],
      "source": [
        "from google.colab import drive\n",
        "drive.mount('/content/gdrive')"
      ]
    },
    {
      "cell_type": "code",
      "source": [
        "from PIL import Image\n",
        "import os\n",
        "import numpy as np\n",
        "image_folder = '/content/gdrive/MyDrive/iris/train/eye'\n",
        "images = []\n",
        "for filename in os.listdir(image_folder):\n",
        "    img = Image.open(os.path.join(image_folder, filename)).convert('L') # convert to grayscale\n",
        "    img = img.resize((512, 512)) # resize image to 64x64 pixels\n",
        "    images.append(img)"
      ],
      "metadata": {
        "id": "JU8bXYAaz5Sb"
      },
      "execution_count": null,
      "outputs": []
    },
    {
      "cell_type": "code",
      "source": [
        "from sklearn.preprocessing import StandardScaler\n",
        "\n",
        "# convert images to numpy arrays\n",
        "X = []\n",
        "for img in images:\n",
        "    X.append(np.array(img).flatten())\n",
        "X = np.array(X)\n",
        "\n",
        "# normalize dataset\n",
        "scaler = StandardScaler()\n",
        "X_normalized = scaler.fit_transform(X)\n",
        "# print(X_normalized)"
      ],
      "metadata": {
        "id": "u3m6i6crz5Vu"
      },
      "execution_count": null,
      "outputs": []
    },
    {
      "cell_type": "code",
      "source": [
        "from tensorflow.keras import layers, models\n",
        "import tensorflow as tf\n",
        "import keras"
      ],
      "metadata": {
        "id": "uKGbGcOUJf6_"
      },
      "execution_count": null,
      "outputs": []
    },
    {
      "cell_type": "code",
      "source": [
        "\n",
        "# define CNN model\n",
        "model = models.Sequential([\n",
        "    layers.Reshape((512, 512, 1), input_shape=(262144,)),\n",
        "    layers.Conv2D(32, (3, 3), activation='relu'),\n",
        "    layers.MaxPooling2D((2, 2)),\n",
        "    layers.Conv2D(64, (3, 3), activation='relu'),\n",
        "    layers.MaxPooling2D((2, 2)),\n",
        "    layers.Conv2D(64, (3, 3), activation='relu'),\n",
        "    layers.Flatten(),\n",
        "    layers.Dense(64, activation='relu'),\n",
        "    layers.Dense(3, activation='softmax')\n",
        "])\n",
        "\n",
        "# compile model\n",
        "model.compile(optimizer='adam',loss='categorical_crossentropy',metrics=['accuracy'])\n",
        "\n",
        "# train model\n",
        "y = np.array([0] * 50 + [1] * 50 + [2] * 50) # set target labels\n",
        "y_onehot = tf.one_hot(y, depth=3) # one-hot encode target labels\n",
        "X_normalized = X_normalized[:150]\n",
        "model.fit(X_normalized, y_onehot, epochs=10)\n",
        "\n",
        "\n",
        "test_loss, test_acc = model.evaluate(X_normalized, y_onehot)\n",
        "print('Test loss:', test_loss)\n",
        "print('Test accuracy:', test_acc)"
      ],
      "metadata": {
        "id": "cTbt_1X9z5Yt",
        "colab": {
          "base_uri": "https://localhost:8080/"
        },
        "outputId": "2876b0bf-0e4e-41e4-f86c-870872ef85f4"
      },
      "execution_count": null,
      "outputs": [
        {
          "output_type": "stream",
          "name": "stdout",
          "text": [
            "Epoch 1/10\n",
            "5/5 [==============================] - 92s 17s/step - loss: 12.6062 - accuracy: 0.4067\n",
            "Epoch 2/10\n",
            "5/5 [==============================] - 87s 17s/step - loss: 1.1194 - accuracy: 0.4133\n",
            "Epoch 3/10\n",
            "5/5 [==============================] - 94s 19s/step - loss: 0.9864 - accuracy: 0.5467\n",
            "Epoch 4/10\n",
            "5/5 [==============================] - 88s 17s/step - loss: 0.7890 - accuracy: 0.7000\n",
            "Epoch 5/10\n",
            "5/5 [==============================] - 87s 17s/step - loss: 0.4944 - accuracy: 0.8267\n",
            "Epoch 6/10\n",
            "5/5 [==============================] - 97s 18s/step - loss: 0.2213 - accuracy: 0.9600\n",
            "Epoch 7/10\n",
            "5/5 [==============================] - 88s 18s/step - loss: 0.0520 - accuracy: 0.9933\n",
            "Epoch 8/10\n",
            "5/5 [==============================] - 91s 17s/step - loss: 0.0383 - accuracy: 0.9933\n",
            "Epoch 9/10\n",
            "5/5 [==============================] - 88s 18s/step - loss: 0.0048 - accuracy: 1.0000\n",
            "Epoch 10/10\n",
            "5/5 [==============================] - 94s 19s/step - loss: 0.0122 - accuracy: 1.0000\n",
            "5/5 [==============================] - 21s 4s/step - loss: 0.0017 - accuracy: 1.0000\n",
            "Test loss: 0.0017468675505369902\n",
            "Test accuracy: 1.0\n"
          ]
        }
      ]
    },
    {
      "cell_type": "code",
      "source": [
        "keras.utils.plot_model(model, show_shapes=True)"
      ],
      "metadata": {
        "id": "RNGZi2o10tdL"
      },
      "execution_count": null,
      "outputs": []
    },
    {
      "cell_type": "code",
      "source": [
        "# extract feature vector V1\n",
        "V1 = model.predict(X_normalized)\n",
        "# print(V1.shape)"
      ],
      "metadata": {
        "colab": {
          "base_uri": "https://localhost:8080/"
        },
        "id": "8y6UgR5uz5bb",
        "outputId": "3e5516ef-235f-4057-83fa-791cd7baedf6"
      },
      "execution_count": null,
      "outputs": [
        {
          "output_type": "stream",
          "name": "stdout",
          "text": [
            "5/5 [==============================] - 23s 4s/step\n"
          ]
        }
      ]
    },
    {
      "cell_type": "code",
      "source": [
        "!pip install reedsolo"
      ],
      "metadata": {
        "colab": {
          "base_uri": "https://localhost:8080/"
        },
        "id": "BR0sdLgyfbYi",
        "outputId": "75b741ba-436f-45f5-e84b-af0b3123e897"
      },
      "execution_count": null,
      "outputs": [
        {
          "output_type": "stream",
          "name": "stdout",
          "text": [
            "Looking in indexes: https://pypi.org/simple, https://us-python.pkg.dev/colab-wheels/public/simple/\n",
            "Collecting reedsolo\n",
            "  Downloading reedsolo-1.7.0-py3-none-any.whl (32 kB)\n",
            "Installing collected packages: reedsolo\n",
            "Successfully installed reedsolo-1.7.0\n"
          ]
        }
      ]
    },
    {
      "cell_type": "code",
      "source": [
        "!pip install bchlib"
      ],
      "metadata": {
        "colab": {
          "base_uri": "https://localhost:8080/"
        },
        "id": "OJr-J4SJ_DkI",
        "outputId": "7f2d6a25-8ae1-4df4-ac8d-236c9fc10ecf"
      },
      "execution_count": null,
      "outputs": [
        {
          "output_type": "stream",
          "name": "stdout",
          "text": [
            "Looking in indexes: https://pypi.org/simple, https://us-python.pkg.dev/colab-wheels/public/simple/\n",
            "Collecting bchlib\n",
            "  Downloading bchlib-0.14.0.tar.gz (25 kB)\n",
            "  Preparing metadata (setup.py) ... \u001b[?25l\u001b[?25hdone\n",
            "Building wheels for collected packages: bchlib\n",
            "  Building wheel for bchlib (setup.py) ... \u001b[?25l\u001b[?25hdone\n",
            "  Created wheel for bchlib: filename=bchlib-0.14.0-cp310-cp310-linux_x86_64.whl size=70699 sha256=0bc056f39c01cd58b4c209c6cfe1ad51a4c5d76070d5633e691899b2741514eb\n",
            "  Stored in directory: /root/.cache/pip/wheels/8e/6f/cc/5eab719b09161264635161f48773df088422a94ae61c985f82\n",
            "Successfully built bchlib\n",
            "Installing collected packages: bchlib\n",
            "Successfully installed bchlib-0.14.0\n"
          ]
        }
      ]
    },
    {
      "cell_type": "code",
      "source": [
        "\n",
        "import bchlib\n",
        "# create a bch object\n",
        "BCH_POLYNOMIAL = 8219\n",
        "BCH_BITS = 72\n",
        "bch = bchlib.BCH(BCH_POLYNOMIAL, BCH_BITS)\n",
        "# v_encoded = bch.encode(V1.flatten())\n",
        "# print(v_encoded)"
      ],
      "metadata": {
        "id": "q_BLIwfDm7Zc"
      },
      "execution_count": null,
      "outputs": []
    },
    {
      "cell_type": "code",
      "source": [
        "\n",
        "from reedsolo import RSCodec\n",
        "\n",
        "# encode feature vector V using RS code\n",
        "rs = RSCodec(10)\n",
        "# V_encoded = rs.encode(V1.flatten())\n",
        "# print(V_encoded)"
      ],
      "metadata": {
        "id": "RHkhW_SBz5el"
      },
      "execution_count": null,
      "outputs": []
    },
    {
      "cell_type": "code",
      "source": [
        "# encrypt image using XOR operation\n",
        "img = Image.open(os.path.join(image_folder, '1-556.JPG')).convert('L') # load example image\n",
        "img = img.resize((512, 512)) # resize image to 64x64 pixels\n",
        "X = np.array(img).flatten() # convert image to numpy array\n",
        "X_normalized = scaler.transform(X.reshape(1, -1)) # normalize image\n",
        "\n",
        "V2 = model.predict(X_normalized) # extract feature vector V2\n",
        "# bch ---> rs\n",
        "V_encoded = bch.encode(V2.flatten()) # encode feature vector V2 using bch\n",
        "v_encoded = rs.encode(np.frombuffer(V_encoded, dtype=np.uint8)) # convert bytearray to numpy array and encode using RS code\n",
        "key = V_encoded\n",
        "print(key)"
      ],
      "metadata": {
        "colab": {
          "base_uri": "https://localhost:8080/"
        },
        "id": "TvZrK5ftz5hk",
        "outputId": "2e5de277-ed40-4498-9e6d-7cd456e9a7b0"
      },
      "execution_count": null,
      "outputs": [
        {
          "output_type": "stream",
          "name": "stdout",
          "text": [
            "1/1 [==============================] - 0s 284ms/step\n",
            "bytearray(b\"\\x0fE\\xd0\\x03A\\xe8\\x9fM\\x1bC\\x06\\xf0\\xceR\\x8e\\xfa\\x95~\\x12A\\xb8\\x9aB\\x8bnX\\xb4r\\xd2\\xc2j\\x1b\\x9c\\xed{E\\x14\\xef\\xcdu\\xb56\\xa8\\xcb\\xfb\\x1f\\xebI\\xe8\\x15\\xab\\'\\x8b$\\xd1v\\x11 \\x8c \\x8d&X><<\\x1ez\\x1d\\xd3n\\xfc\\xa8\\x91B]\\x957\\xee\\x02\\x15\\xfa~\\x01\\x96\\xd3\\n\\xf7\\x96/\\xab?\\x8728\\xe9\\x00\\x1a\\x7f\\x1c6\\x14(\\x8a\\xf9\\x84\\x9f\\x96j\\xbd\\x11\\xfe\\xc5h\\x82\\xc0\\x00\")\n"
          ]
        }
      ]
    },
    {
      "cell_type": "code",
      "source": [
        "import numpy as np\n",
        "from scipy.stats import chisquare\n",
        "import math\n",
        "import matplotlib.pyplot as plt\n",
        "from scipy import stats\n",
        "# converting key into binary\n",
        "binary_key = ''.join(format(byte, '08b') for byte in key)\n",
        "print(binary_key)\n"
      ],
      "metadata": {
        "colab": {
          "base_uri": "https://localhost:8080/"
        },
        "id": "uOwW9RnF0Rp-",
        "outputId": "815b4e4f-ea63-4289-a050-4eecc9e7ec93"
      },
      "execution_count": null,
      "outputs": [
        {
          "output_type": "stream",
          "name": "stdout",
          "text": [
            "111001011010001111101011011010000100101011111111110100010011000100110001010010011111011101000100000011100000000101010101011110100101001111000111100011111010010010001000000111110010001110011010010001001011000011001110101110000110110010010111100010101010011110001011111101001001000000100011010001001001111110001111011010011110110011001010001011011010111101100010100001000110101001000000001010111010101101101011100011011010111001010101100000010011110111010001000100110010010100000111100010001010011111001110111110111000000111010100011111011110111000101010110111001000000001111010101101110011000101101100110000000010010100010011101011110000111011111100100101110001010111000101000101111011000000111000101010001110010000111000010111000111001001101000110110010101011001110100010110011011000010011010111011000111100101001001011111011010010000101011010011010110011110100111111011101010110010111011011110000100001101100000000011000010000000000000\n"
          ]
        }
      ]
    },
    {
      "cell_type": "code",
      "source": [
        "# img = Image.open(os.path.join(image_folder, '1-556.JPG')).convert('L') # load example image\n",
        "# img = img.resize((512, 512)) # resize image to 64x64 pixels\n",
        "# X = np.array(img).flatten() # convert image to numpy array\n",
        "\n",
        "# reshape key to match the shape of X\n",
        "key_reshaped = np.tile(key, len(X) // len(key) + 1)[:len(X)]\n",
        "\n",
        "# encrypt the image using XOR operation\n",
        "X_encrypted = bytearray(X ^ key_reshaped)\n",
        "save_encrypted_img_folder = \"/content/gdrive/MyDrive/Encrypted_Images\"\n",
        "# save the encrypted image\n",
        "img_encrypted = Image.frombytes('L', (512, 512), bytes(X_encrypted))\n",
        "img_encrypted.save(os.path.join(save_encrypted_img_folder, 'BCH.jpg'))"
      ],
      "metadata": {
        "id": "9AuKPGRcz5ks"
      },
      "execution_count": null,
      "outputs": []
    },
    {
      "cell_type": "code",
      "source": [
        "import cv2\n",
        "save_encrypted_img_folder = \"/content/gdrive/MyDrive/Encrypted_Images\"\n",
        "encrypted_image1 = np.array(Image.open(os.path.join(save_encrypted_img_folder, 'RS.jpg')))\n",
        "encrypted_image2 = np.array(Image.open(os.path.join(save_encrypted_img_folder, 'BCH.jpg')))\n",
        "\n",
        "# Compute the absolute difference between the two images\n",
        "diff = cv2.absdiff(encrypted_image1, encrypted_image2)\n",
        "\n",
        "# Compute the mean intensity value of the difference image\n",
        "mean_intensity = np.sum(diff) / (diff.shape[0] * diff.shape[1])\n",
        "\n",
        "# Compute the UACI value as a percentage\n",
        "uaci = (mean_intensity / 255) * 100\n",
        "\n",
        "# Print the UACI value\n",
        "print(\"UACI is: %.2f%%\" % uaci)\n",
        "# bch ---> rs # UACI is: 33.24%\n",
        "# rs ---> bch #UACI is:31.48%"
      ],
      "metadata": {
        "id": "ea4Saqzeok91"
      },
      "execution_count": null,
      "outputs": []
    },
    {
      "cell_type": "code",
      "source": [
        "import numpy as np\n",
        "from PIL import Image\n",
        "image_folder = '/content/gdrive/MyDrive/iris/train/eye'\n",
        "save_encrypted_img_folder = \"/content/gdrive/MyDrive/Encrypted_Images\"\n",
        "# Load the original and encrypted images\n",
        "original_image = Image.open(os.path.join(image_folder, '1-556.JPG'))\n",
        "encrypted_image = Image.open(os.path.join(save_encrypted_img_folder, 'BCH+RS.jpg'))\n",
        "original_image = original_image.resize((512, 512))\n",
        "# Convert the images to grayscale\n",
        "original_image = original_image.convert('L')\n",
        "encrypted_image = encrypted_image.convert('L')\n",
        "\n",
        "# Convert the images to numpy arrays for faster processing\n",
        "original_array = np.array(original_image)\n",
        "encrypted_array = np.array(encrypted_image)\n",
        "\n",
        "# Calculate the number of pixels in the image\n",
        "N = original_array.size\n",
        "\n",
        "# Calculate the number of pixels that have changed between the original and encrypted images\n",
        "diff_array = np.abs(original_array - encrypted_array)\n",
        "Nc = np.count_nonzero(diff_array)\n",
        "\n",
        "# Calculate NPCR\n",
        "NPCR = (Nc/N) * 100\n",
        "\n",
        "print('NPCR: {:.2f}%'.format(NPCR))\n",
        "# bch->99.78\n",
        "# RS ->99.61"
      ],
      "metadata": {
        "colab": {
          "base_uri": "https://localhost:8080/"
        },
        "id": "5t091OEQzuZe",
        "outputId": "20bd765b-4642-4ebf-f278-f9ef38c01857"
      },
      "execution_count": null,
      "outputs": [
        {
          "output_type": "stream",
          "name": "stdout",
          "text": [
            "NPCR: 99.70%\n"
          ]
        }
      ]
    },
    {
      "cell_type": "code",
      "source": [
        "# load the encrypted image\n",
        "save_encrypted_img_folder = \"/content/gdrive/MyDrive/Encrypted_Images\"\n",
        "img_encrypted = Image.open(os.path.join(save_encrypted_img_folder, 'BCH.jpg')).convert('L')\n",
        "\n",
        "# convert the encrypted image to numpy array\n",
        "X_encrypted = np.array(img_encrypted).flatten()\n",
        "\n",
        "# reshape the key to match the shape of X_encrypted\n",
        "key_reshaped = np.tile(key, len(X_encrypted) // len(key) + 1)[:len(X_encrypted)]\n",
        "\n",
        "# use the decryption key to perform XOR operation on the encrypted image\n",
        "X_decrypted = bytearray(X_encrypted ^ key_reshaped)\n",
        "\n",
        "# convert the decrypted image to numpy array and reshape it\n",
        "X_decrypted = np.array(X_decrypted)\n",
        "X_decrypted = X_decrypted.reshape((512, 512))\n",
        "save_decrypted_img_folder = \"/content/gdrive/MyDrive/Decrypted_Images\"\n",
        "# convert the numpy array to an image and save it\n",
        "img_decrypted = Image.fromarray(X_decrypted)\n",
        "img_decrypted.save(os.path.join(save_decrypted_img_folder, 'BCH.jpg'))\n",
        "\n"
      ],
      "metadata": {
        "id": "YZ-0ZKu9z5nx"
      },
      "execution_count": null,
      "outputs": []
    },
    {
      "cell_type": "code",
      "source": [
        "import matplotlib.pyplot as plt\n",
        "import numpy as np\n",
        "from PIL import Image\n",
        "import os\n",
        "image_folder = '/content/gdrive/MyDrive/iris/train/eye'\n",
        "# Load the plain image\n",
        "plain_img = Image.open(os.path.join(image_folder, '1-543.JPG'))\n",
        "\n",
        "# Convert the plain image to a numpy array\n",
        "plain_arr = np.array(plain_img)\n",
        "\n",
        "# Draw the histogram for the plain image\n",
        "plt.hist(plain_arr.ravel(), bins=256, range=(0, 255))\n",
        "plt.title(\"Histogram of Plain iris Image\")\n",
        "plt.xlabel(\"Pixel Value\")\n",
        "plt.ylabel(\"Frequency\")\n",
        "plt.show()\n",
        "\n",
        "# Load the encrypted image\n",
        "encrypted_img = Image.open(os.path.join(image_folder, 'enc2.jpg'))\n",
        "\n",
        "# Convert the encrypted image to a numpy array\n",
        "encrypted_arr = np.array(encrypted_img)\n",
        "\n",
        "# Draw the histogram for the encrypted image\n",
        "plt.hist(encrypted_arr.ravel(), bins=256, range=(0, 255))\n",
        "plt.title(\"Histogram of Encrypted Image\")\n",
        "plt.xlabel(\"Pixel Value\")\n",
        "plt.ylabel(\"Frequency\")\n",
        "plt.show()\n"
      ],
      "metadata": {
        "id": "u3x2M3MAz5tm"
      },
      "execution_count": null,
      "outputs": []
    },
    {
      "cell_type": "code",
      "source": [],
      "metadata": {
        "id": "AUKwS32uz4tx"
      },
      "execution_count": null,
      "outputs": []
    }
  ]
}