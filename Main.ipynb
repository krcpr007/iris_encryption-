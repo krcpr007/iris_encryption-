{
  "nbformat": 4,
  "nbformat_minor": 0,
  "metadata": {
    "colab": {
      "provenance": [],
      "toc_visible": true,
      "include_colab_link": true
    },
    "kernelspec": {
      "name": "python3",
      "display_name": "Python 3"
    },
    "language_info": {
      "name": "python"
    }
  },
  "cells": [
    {
      "cell_type": "markdown",
      "metadata": {
        "id": "view-in-github",
        "colab_type": "text"
      },
      "source": [
        "<a href=\"https://colab.research.google.com/github/krcpr007/iris_encryption-/blob/main/Main.ipynb\" target=\"_parent\"><img src=\"https://colab.research.google.com/assets/colab-badge.svg\" alt=\"Open In Colab\"/></a>"
      ]
    },
    {
      "cell_type": "code",
      "execution_count": null,
      "metadata": {
        "id": "XS0nhMnWafLZ",
        "colab": {
          "base_uri": "https://localhost:8080/"
        },
        "outputId": "d10e71d9-1272-4613-d811-99b778c23e81"
      },
      "outputs": [
        {
          "output_type": "stream",
          "name": "stdout",
          "text": [
            "Mounted at /content/gdrive\n"
          ]
        }
      ],
      "source": [
        "from google.colab import drive\n",
        "drive.mount('/content/gdrive')\n"
      ]
    },
    {
      "cell_type": "code",
      "source": [
        "from PIL import Image\n",
        "import os\n",
        "import numpy as np\n",
        "image_folder = '/content/gdrive/MyDrive/iris/train/eye'\n",
        "images = []\n",
        "for filename in os.listdir(image_folder):\n",
        "    img = Image.open(os.path.join(image_folder, filename)).convert('L') # convert to grayscale\n",
        "    img = img.resize((64, 64)) # resize image to 64x64 pixels\n",
        "    images.append(img)"
      ],
      "metadata": {
        "id": "QSEfbx32dTpP"
      },
      "execution_count": null,
      "outputs": []
    },
    {
      "cell_type": "code",
      "source": [
        "print(images)"
      ],
      "metadata": {
        "id": "ZWF0l7hiYouy",
        "colab": {
          "base_uri": "https://localhost:8080/"
        },
        "outputId": "09945173-4edb-4a6f-b2f5-5eb6f6ee31ae"
      },
      "execution_count": null,
      "outputs": [
        {
          "output_type": "stream",
          "name": "stdout",
          "text": [
            "[<PIL.Image.Image image mode=L size=64x64 at 0x7F75F44B3E20>, <PIL.Image.Image image mode=L size=64x64 at 0x7F76905785B0>, <PIL.Image.Image image mode=L size=64x64 at 0x7F76902BFFA0>, <PIL.Image.Image image mode=L size=64x64 at 0x7F75F4854940>, <PIL.Image.Image image mode=L size=64x64 at 0x7F75F45AF8B0>, <PIL.Image.Image image mode=L size=64x64 at 0x7F760B73A400>, <PIL.Image.Image image mode=L size=64x64 at 0x7F76902BFEB0>, <PIL.Image.Image image mode=L size=64x64 at 0x7F76902BFF70>, <PIL.Image.Image image mode=L size=64x64 at 0x7F7690578490>, <PIL.Image.Image image mode=L size=64x64 at 0x7F75F52C8AC0>, <PIL.Image.Image image mode=L size=64x64 at 0x7F769053EAF0>, <PIL.Image.Image image mode=L size=64x64 at 0x7F7613574D00>, <PIL.Image.Image image mode=L size=64x64 at 0x7F76902CCD90>, <PIL.Image.Image image mode=L size=64x64 at 0x7F760870E040>, <PIL.Image.Image image mode=L size=64x64 at 0x7F75EF9FA9A0>, <PIL.Image.Image image mode=L size=64x64 at 0x7F76902CCDF0>, <PIL.Image.Image image mode=L size=64x64 at 0x7F769053EE20>, <PIL.Image.Image image mode=L size=64x64 at 0x7F76902D9190>, <PIL.Image.Image image mode=L size=64x64 at 0x7F76902CC940>, <PIL.Image.Image image mode=L size=64x64 at 0x7F76902D9AF0>, <PIL.Image.Image image mode=L size=64x64 at 0x7F76902CC670>, <PIL.Image.Image image mode=L size=64x64 at 0x7F76902D97F0>, <PIL.Image.Image image mode=L size=64x64 at 0x7F76902CC880>, <PIL.Image.Image image mode=L size=64x64 at 0x7F76902DF700>, <PIL.Image.Image image mode=L size=64x64 at 0x7F76902CCC40>, <PIL.Image.Image image mode=L size=64x64 at 0x7F76902D9FA0>, <PIL.Image.Image image mode=L size=64x64 at 0x7F76902CC4F0>, <PIL.Image.Image image mode=L size=64x64 at 0x7F76902D9D60>, <PIL.Image.Image image mode=L size=64x64 at 0x7F76902D39A0>, <PIL.Image.Image image mode=L size=64x64 at 0x7F76902DF580>, <PIL.Image.Image image mode=L size=64x64 at 0x7F769053EBB0>, <PIL.Image.Image image mode=L size=64x64 at 0x7F76902CCE80>, <PIL.Image.Image image mode=L size=64x64 at 0x7F76902E9EE0>, <PIL.Image.Image image mode=L size=64x64 at 0x7F76902DFC40>, <PIL.Image.Image image mode=L size=64x64 at 0x7F76902E9E20>, <PIL.Image.Image image mode=L size=64x64 at 0x7F76902D3D00>, <PIL.Image.Image image mode=L size=64x64 at 0x7F76902D98E0>, <PIL.Image.Image image mode=L size=64x64 at 0x7F75F522EA00>, <PIL.Image.Image image mode=L size=64x64 at 0x7F76902D3A30>, <PIL.Image.Image image mode=L size=64x64 at 0x7F75F12CF070>, <PIL.Image.Image image mode=L size=64x64 at 0x7F76902D37F0>, <PIL.Image.Image image mode=L size=64x64 at 0x7F76902DFD00>, <PIL.Image.Image image mode=L size=64x64 at 0x7F76902D3A00>, <PIL.Image.Image image mode=L size=64x64 at 0x7F76902DFF70>, <PIL.Image.Image image mode=L size=64x64 at 0x7F75F4472970>, <PIL.Image.Image image mode=L size=64x64 at 0x7F76902D3880>, <PIL.Image.Image image mode=L size=64x64 at 0x7F76902DF850>, <PIL.Image.Image image mode=L size=64x64 at 0x7F76902E2BB0>, <PIL.Image.Image image mode=L size=64x64 at 0x7F76902E9A60>, <PIL.Image.Image image mode=L size=64x64 at 0x7F76902E27C0>, <PIL.Image.Image image mode=L size=64x64 at 0x7F75F4472FA0>, <PIL.Image.Image image mode=L size=64x64 at 0x7F75F478E250>, <PIL.Image.Image image mode=L size=64x64 at 0x7F76902F3A30>, <PIL.Image.Image image mode=L size=64x64 at 0x7F76902DF9A0>, <PIL.Image.Image image mode=L size=64x64 at 0x7F76902F3F40>, <PIL.Image.Image image mode=L size=64x64 at 0x7F76902E2430>, <PIL.Image.Image image mode=L size=64x64 at 0x7F76902DD610>, <PIL.Image.Image image mode=L size=64x64 at 0x7F76902F3C40>, <PIL.Image.Image image mode=L size=64x64 at 0x7F76902DDE80>, <PIL.Image.Image image mode=L size=64x64 at 0x7F76902E2F10>, <PIL.Image.Image image mode=L size=64x64 at 0x7F75F49777F0>, <PIL.Image.Image image mode=L size=64x64 at 0x7F76902E2850>, <PIL.Image.Image image mode=L size=64x64 at 0x7F769053EF40>, <PIL.Image.Image image mode=L size=64x64 at 0x7F75F44D5070>, <PIL.Image.Image image mode=L size=64x64 at 0x7F76902F3D60>, <PIL.Image.Image image mode=L size=64x64 at 0x7F75F4476790>, <PIL.Image.Image image mode=L size=64x64 at 0x7F76902F39A0>, <PIL.Image.Image image mode=L size=64x64 at 0x7F76902E24F0>, <PIL.Image.Image image mode=L size=64x64 at 0x7F75F44D50A0>, <PIL.Image.Image image mode=L size=64x64 at 0x7F76902DDA30>, <PIL.Image.Image image mode=L size=64x64 at 0x7F76902DDF40>, <PIL.Image.Image image mode=L size=64x64 at 0x7F75F4476E20>, <PIL.Image.Image image mode=L size=64x64 at 0x7F75F4476A60>, <PIL.Image.Image image mode=L size=64x64 at 0x7F75F4476490>, <PIL.Image.Image image mode=L size=64x64 at 0x7F76902DD340>, <PIL.Image.Image image mode=L size=64x64 at 0x7F75F4476730>, <PIL.Image.Image image mode=L size=64x64 at 0x7F76902F3760>, <PIL.Image.Image image mode=L size=64x64 at 0x7F75F4476520>, <PIL.Image.Image image mode=L size=64x64 at 0x7F75F44D5280>, <PIL.Image.Image image mode=L size=64x64 at 0x7F76902DD6A0>, <PIL.Image.Image image mode=L size=64x64 at 0x7F75F44D5040>, <PIL.Image.Image image mode=L size=64x64 at 0x7F75F44D3160>, <PIL.Image.Image image mode=L size=64x64 at 0x7F75F44D3250>, <PIL.Image.Image image mode=L size=64x64 at 0x7F75F44D3220>, <PIL.Image.Image image mode=L size=64x64 at 0x7F75F4476760>, <PIL.Image.Image image mode=L size=64x64 at 0x7F75F444FBE0>, <PIL.Image.Image image mode=L size=64x64 at 0x7F76902DDAF0>, <PIL.Image.Image image mode=L size=64x64 at 0x7F75F444F3A0>, <PIL.Image.Image image mode=L size=64x64 at 0x7F75F444F370>, <PIL.Image.Image image mode=L size=64x64 at 0x7F75F444FCD0>, <PIL.Image.Image image mode=L size=64x64 at 0x7F75F444F490>, <PIL.Image.Image image mode=L size=64x64 at 0x7F75F444F4C0>, <PIL.Image.Image image mode=L size=64x64 at 0x7F75F444F8B0>, <PIL.Image.Image image mode=L size=64x64 at 0x7F75F444F1F0>, <PIL.Image.Image image mode=L size=64x64 at 0x7F75F44D3460>, <PIL.Image.Image image mode=L size=64x64 at 0x7F75F444FEB0>, <PIL.Image.Image image mode=L size=64x64 at 0x7F75F444F040>, <PIL.Image.Image image mode=L size=64x64 at 0x7F75F44F18B0>, <PIL.Image.Image image mode=L size=64x64 at 0x7F75F44F1D60>, <PIL.Image.Image image mode=L size=64x64 at 0x7F75F44F1370>, <PIL.Image.Image image mode=L size=64x64 at 0x7F75F444F2E0>, <PIL.Image.Image image mode=L size=64x64 at 0x7F75F44F1C40>, <PIL.Image.Image image mode=L size=64x64 at 0x7F75F44F1130>, <PIL.Image.Image image mode=L size=64x64 at 0x7F75F44F1190>, <PIL.Image.Image image mode=L size=64x64 at 0x7F75F44F1670>, <PIL.Image.Image image mode=L size=64x64 at 0x7F75F44F16D0>, <PIL.Image.Image image mode=L size=64x64 at 0x7F75F44F1100>, <PIL.Image.Image image mode=L size=64x64 at 0x7F75F44F1CD0>, <PIL.Image.Image image mode=L size=64x64 at 0x7F75F44F1E20>, <PIL.Image.Image image mode=L size=64x64 at 0x7F75F44F13A0>, <PIL.Image.Image image mode=L size=64x64 at 0x7F75F44F1160>, <PIL.Image.Image image mode=L size=64x64 at 0x7F75F44F10A0>, <PIL.Image.Image image mode=L size=64x64 at 0x7F75F44E7790>, <PIL.Image.Image image mode=L size=64x64 at 0x7F75F44E7AF0>, <PIL.Image.Image image mode=L size=64x64 at 0x7F75F44F1340>, <PIL.Image.Image image mode=L size=64x64 at 0x7F75F44E71C0>, <PIL.Image.Image image mode=L size=64x64 at 0x7F7608BF3190>, <PIL.Image.Image image mode=L size=64x64 at 0x7F75F44E7640>, <PIL.Image.Image image mode=L size=64x64 at 0x7F76083EF340>, <PIL.Image.Image image mode=L size=64x64 at 0x7F76083EF670>, <PIL.Image.Image image mode=L size=64x64 at 0x7F75F4476280>, <PIL.Image.Image image mode=L size=64x64 at 0x7F75F44E0EB0>, <PIL.Image.Image image mode=L size=64x64 at 0x7F760826DEB0>, <PIL.Image.Image image mode=L size=64x64 at 0x7F75F44E0070>, <PIL.Image.Image image mode=L size=64x64 at 0x7F7608BF3CD0>, <PIL.Image.Image image mode=L size=64x64 at 0x7F76082C7D60>, <PIL.Image.Image image mode=L size=64x64 at 0x7F75F44E0DF0>, <PIL.Image.Image image mode=L size=64x64 at 0x7F76082DE760>, <PIL.Image.Image image mode=L size=64x64 at 0x7F7608BF3A00>, <PIL.Image.Image image mode=L size=64x64 at 0x7F76082C71F0>, <PIL.Image.Image image mode=L size=64x64 at 0x7F760826DBB0>, <PIL.Image.Image image mode=L size=64x64 at 0x7F760872ABE0>, <PIL.Image.Image image mode=L size=64x64 at 0x7F760826DAF0>, <PIL.Image.Image image mode=L size=64x64 at 0x7F760872A5E0>, <PIL.Image.Image image mode=L size=64x64 at 0x7F76083EF250>, <PIL.Image.Image image mode=L size=64x64 at 0x7F760826DD30>, <PIL.Image.Image image mode=L size=64x64 at 0x7F7690296880>, <PIL.Image.Image image mode=L size=64x64 at 0x7F760826DFD0>, <PIL.Image.Image image mode=L size=64x64 at 0x7F76083EFF40>, <PIL.Image.Image image mode=L size=64x64 at 0x7F760872AA30>, <PIL.Image.Image image mode=L size=64x64 at 0x7F7608789220>, <PIL.Image.Image image mode=L size=64x64 at 0x7F760872A2E0>, <PIL.Image.Image image mode=L size=64x64 at 0x7F75F44E7E20>, <PIL.Image.Image image mode=L size=64x64 at 0x7F7608143A30>, <PIL.Image.Image image mode=L size=64x64 at 0x7F75F44E7F10>, <PIL.Image.Image image mode=L size=64x64 at 0x7F760B9DAB20>, <PIL.Image.Image image mode=L size=64x64 at 0x7F7690296910>, <PIL.Image.Image image mode=L size=64x64 at 0x7F75F44E0BE0>, <PIL.Image.Image image mode=L size=64x64 at 0x7F75F44E7430>, <PIL.Image.Image image mode=L size=64x64 at 0x7F75F44D31C0>, <PIL.Image.Image image mode=L size=64x64 at 0x7F760B9DADF0>, <PIL.Image.Image image mode=L size=64x64 at 0x7F75F44E7070>, <PIL.Image.Image image mode=L size=64x64 at 0x7F760B9DAF70>, <PIL.Image.Image image mode=L size=64x64 at 0x7F75F44E7EE0>, <PIL.Image.Image image mode=L size=64x64 at 0x7F7608143CD0>, <PIL.Image.Image image mode=L size=64x64 at 0x7F75F44E7700>, <PIL.Image.Image image mode=L size=64x64 at 0x7F75F44E7C70>, <PIL.Image.Image image mode=L size=64x64 at 0x7F76082DEEE0>, <PIL.Image.Image image mode=L size=64x64 at 0x7F760B9DAE80>, <PIL.Image.Image image mode=L size=64x64 at 0x7F760872ADC0>, <PIL.Image.Image image mode=L size=64x64 at 0x7F760B9DADC0>, <PIL.Image.Image image mode=L size=64x64 at 0x7F760B9DAD90>, <PIL.Image.Image image mode=L size=64x64 at 0x7F760B9DAE20>, <PIL.Image.Image image mode=L size=64x64 at 0x7F7690296250>, <PIL.Image.Image image mode=L size=64x64 at 0x7F76084396D0>, <PIL.Image.Image image mode=L size=64x64 at 0x7F7608439FA0>, <PIL.Image.Image image mode=L size=64x64 at 0x7F7608439100>, <PIL.Image.Image image mode=L size=64x64 at 0x7F7608439A00>, <PIL.Image.Image image mode=L size=64x64 at 0x7F76084399A0>, <PIL.Image.Image image mode=L size=64x64 at 0x7F7608439820>, <PIL.Image.Image image mode=L size=64x64 at 0x7F7608439AF0>, <PIL.Image.Image image mode=L size=64x64 at 0x7F7608439C40>, <PIL.Image.Image image mode=L size=64x64 at 0x7F7608439E80>, <PIL.Image.Image image mode=L size=64x64 at 0x7F7608439880>, <PIL.Image.Image image mode=L size=64x64 at 0x7F7608439C10>, <PIL.Image.Image image mode=L size=64x64 at 0x7F7608439910>, <PIL.Image.Image image mode=L size=64x64 at 0x7F7608439070>, <PIL.Image.Image image mode=L size=64x64 at 0x7F7608439940>, <PIL.Image.Image image mode=L size=64x64 at 0x7F7608439190>, <PIL.Image.Image image mode=L size=64x64 at 0x7F7608439CD0>, <PIL.Image.Image image mode=L size=64x64 at 0x7F7608439B80>, <PIL.Image.Image image mode=L size=64x64 at 0x7F7608439850>, <PIL.Image.Image image mode=L size=64x64 at 0x7F76084398E0>, <PIL.Image.Image image mode=L size=64x64 at 0x7F7608439280>, <PIL.Image.Image image mode=L size=64x64 at 0x7F7608439520>, <PIL.Image.Image image mode=L size=64x64 at 0x7F7608439FD0>, <PIL.Image.Image image mode=L size=64x64 at 0x7F7608439F10>, <PIL.Image.Image image mode=L size=64x64 at 0x7F76084394F0>, <PIL.Image.Image image mode=L size=64x64 at 0x7F7608439D90>, <PIL.Image.Image image mode=L size=64x64 at 0x7F7608439AC0>, <PIL.Image.Image image mode=L size=64x64 at 0x7F7608143D00>, <PIL.Image.Image image mode=L size=64x64 at 0x7F760872A730>, <PIL.Image.Image image mode=L size=64x64 at 0x7F76084395B0>, <PIL.Image.Image image mode=L size=64x64 at 0x7F7608439A60>, <PIL.Image.Image image mode=L size=64x64 at 0x7F76084394C0>, <PIL.Image.Image image mode=L size=64x64 at 0x7F7608439970>, <PIL.Image.Image image mode=L size=64x64 at 0x7F7608439B20>, <PIL.Image.Image image mode=L size=64x64 at 0x7F7608439580>, <PIL.Image.Image image mode=L size=64x64 at 0x7F7608439D60>, <PIL.Image.Image image mode=L size=64x64 at 0x7F7608439550>, <PIL.Image.Image image mode=L size=64x64 at 0x7F760B9DAF10>, <PIL.Image.Image image mode=L size=64x64 at 0x7F760872F580>, <PIL.Image.Image image mode=L size=64x64 at 0x7F760872FEB0>, <PIL.Image.Image image mode=L size=64x64 at 0x7F760872F160>, <PIL.Image.Image image mode=L size=64x64 at 0x7F7608439BB0>, <PIL.Image.Image image mode=L size=64x64 at 0x7F760872FC70>, <PIL.Image.Image image mode=L size=64x64 at 0x7F760872F250>, <PIL.Image.Image image mode=L size=64x64 at 0x7F760872FE50>, <PIL.Image.Image image mode=L size=64x64 at 0x7F760872FF70>, <PIL.Image.Image image mode=L size=64x64 at 0x7F760872F7C0>, <PIL.Image.Image image mode=L size=64x64 at 0x7F760872FD90>, <PIL.Image.Image image mode=L size=64x64 at 0x7F760872FDF0>, <PIL.Image.Image image mode=L size=64x64 at 0x7F760872F310>, <PIL.Image.Image image mode=L size=64x64 at 0x7F76921474F0>, <PIL.Image.Image image mode=L size=64x64 at 0x7F760872FF40>, <PIL.Image.Image image mode=L size=64x64 at 0x7F760872F760>, <PIL.Image.Image image mode=L size=64x64 at 0x7F760872F430>, <PIL.Image.Image image mode=L size=64x64 at 0x7F760872F8E0>, <PIL.Image.Image image mode=L size=64x64 at 0x7F760872F280>, <PIL.Image.Image image mode=L size=64x64 at 0x7F760872F0D0>, <PIL.Image.Image image mode=L size=64x64 at 0x7F760872FC40>, <PIL.Image.Image image mode=L size=64x64 at 0x7F760872FD30>, <PIL.Image.Image image mode=L size=64x64 at 0x7F760872F2B0>, <PIL.Image.Image image mode=L size=64x64 at 0x7F760872F3A0>, <PIL.Image.Image image mode=L size=64x64 at 0x7F760872F730>, <PIL.Image.Image image mode=L size=64x64 at 0x7F7608D8F4C0>, <PIL.Image.Image image mode=L size=64x64 at 0x7F7608D8F3D0>, <PIL.Image.Image image mode=L size=64x64 at 0x7F7608D8FE20>, <PIL.Image.Image image mode=L size=64x64 at 0x7F7608D8F430>, <PIL.Image.Image image mode=L size=64x64 at 0x7F760872F700>, <PIL.Image.Image image mode=L size=64x64 at 0x7F760872FFD0>, <PIL.Image.Image image mode=L size=64x64 at 0x7F760872F970>, <PIL.Image.Image image mode=L size=64x64 at 0x7F7608D8FAC0>, <PIL.Image.Image image mode=L size=64x64 at 0x7F760872F850>, <PIL.Image.Image image mode=L size=64x64 at 0x7F7608BFA790>, <PIL.Image.Image image mode=L size=64x64 at 0x7F7608BFACA0>, <PIL.Image.Image image mode=L size=64x64 at 0x7F7608BFAD90>, <PIL.Image.Image image mode=L size=64x64 at 0x7F7608BFA760>, <PIL.Image.Image image mode=L size=64x64 at 0x7F7608BFAE80>, <PIL.Image.Image image mode=L size=64x64 at 0x7F7608BFA310>, <PIL.Image.Image image mode=L size=64x64 at 0x7F7608439430>, <PIL.Image.Image image mode=L size=64x64 at 0x7F7608BFA640>, <PIL.Image.Image image mode=L size=64x64 at 0x7F7608BFA3A0>, <PIL.Image.Image image mode=L size=64x64 at 0x7F7608BFAD00>, <PIL.Image.Image image mode=L size=64x64 at 0x7F760872F340>, <PIL.Image.Image image mode=L size=64x64 at 0x7F760872F820>, <PIL.Image.Image image mode=L size=64x64 at 0x7F760B9DAEE0>, <PIL.Image.Image image mode=L size=64x64 at 0x7F760872FCD0>, <PIL.Image.Image image mode=L size=64x64 at 0x7F760872F490>, <PIL.Image.Image image mode=L size=64x64 at 0x7F7608BFA100>, <PIL.Image.Image image mode=L size=64x64 at 0x7F76902EB0D0>, <PIL.Image.Image image mode=L size=64x64 at 0x7F7608BFA340>, <PIL.Image.Image image mode=L size=64x64 at 0x7F76902EB850>, <PIL.Image.Image image mode=L size=64x64 at 0x7F7608439220>, <PIL.Image.Image image mode=L size=64x64 at 0x7F76902EB160>, <PIL.Image.Image image mode=L size=64x64 at 0x7F760872F910>, <PIL.Image.Image image mode=L size=64x64 at 0x7F760872F940>, <PIL.Image.Image image mode=L size=64x64 at 0x7F76902EBCD0>, <PIL.Image.Image image mode=L size=64x64 at 0x7F760872F880>, <PIL.Image.Image image mode=L size=64x64 at 0x7F7608BFA700>, <PIL.Image.Image image mode=L size=64x64 at 0x7F76902EB4F0>, <PIL.Image.Image image mode=L size=64x64 at 0x7F760872F520>, <PIL.Image.Image image mode=L size=64x64 at 0x7F76902EB940>, <PIL.Image.Image image mode=L size=64x64 at 0x7F760872F2E0>, <PIL.Image.Image image mode=L size=64x64 at 0x7F76902EBC70>, <PIL.Image.Image image mode=L size=64x64 at 0x7F760872F0A0>, <PIL.Image.Image image mode=L size=64x64 at 0x7F76902EBC40>, <PIL.Image.Image image mode=L size=64x64 at 0x7F760872F5E0>, <PIL.Image.Image image mode=L size=64x64 at 0x7F76902EBEB0>, <PIL.Image.Image image mode=L size=64x64 at 0x7F7608C687C0>, <PIL.Image.Image image mode=L size=64x64 at 0x7F7608C68E50>, <PIL.Image.Image image mode=L size=64x64 at 0x7F7608C68310>, <PIL.Image.Image image mode=L size=64x64 at 0x7F7608C68E80>, <PIL.Image.Image image mode=L size=64x64 at 0x7F7608C68100>, <PIL.Image.Image image mode=L size=64x64 at 0x7F7608C684C0>, <PIL.Image.Image image mode=L size=64x64 at 0x7F7608C68760>, <PIL.Image.Image image mode=L size=64x64 at 0x7F7608C68C10>, <PIL.Image.Image image mode=L size=64x64 at 0x7F7608C68610>, <PIL.Image.Image image mode=L size=64x64 at 0x7F7608C68AC0>, <PIL.Image.Image image mode=L size=64x64 at 0x7F7608C684F0>, <PIL.Image.Image image mode=L size=64x64 at 0x7F7608C68790>, <PIL.Image.Image image mode=L size=64x64 at 0x7F7608C681C0>, <PIL.Image.Image image mode=L size=64x64 at 0x7F7608C68280>, <PIL.Image.Image image mode=L size=64x64 at 0x7F7608C68400>, <PIL.Image.Image image mode=L size=64x64 at 0x7F7608C68940>, <PIL.Image.Image image mode=L size=64x64 at 0x7F7608C68670>, <PIL.Image.Image image mode=L size=64x64 at 0x7F7608C68A90>, <PIL.Image.Image image mode=L size=64x64 at 0x7F7608C685E0>, <PIL.Image.Image image mode=L size=64x64 at 0x7F7608C68910>, <PIL.Image.Image image mode=L size=64x64 at 0x7F7608C68CD0>, <PIL.Image.Image image mode=L size=64x64 at 0x7F7608C681F0>, <PIL.Image.Image image mode=L size=64x64 at 0x7F7608C68FA0>, <PIL.Image.Image image mode=L size=64x64 at 0x7F7608C688B0>, <PIL.Image.Image image mode=L size=64x64 at 0x7F760872FA30>, <PIL.Image.Image image mode=L size=64x64 at 0x7F7608C68730>, <PIL.Image.Image image mode=L size=64x64 at 0x7F7608C68160>, <PIL.Image.Image image mode=L size=64x64 at 0x7F7608C683D0>, <PIL.Image.Image image mode=L size=64x64 at 0x7F7608C68370>, <PIL.Image.Image image mode=L size=64x64 at 0x7F75F447EA00>, <PIL.Image.Image image mode=L size=64x64 at 0x7F7608BFA370>, <PIL.Image.Image image mode=L size=64x64 at 0x7F75F447EE80>, <PIL.Image.Image image mode=L size=64x64 at 0x7F7608C68250>, <PIL.Image.Image image mode=L size=64x64 at 0x7F75F447E7C0>, <PIL.Image.Image image mode=L size=64x64 at 0x7F75F447EF70>, <PIL.Image.Image image mode=L size=64x64 at 0x7F75F447E130>, <PIL.Image.Image image mode=L size=64x64 at 0x7F75F447E520>, <PIL.Image.Image image mode=L size=64x64 at 0x7F75F447ED30>, <PIL.Image.Image image mode=L size=64x64 at 0x7F75F447EEE0>, <PIL.Image.Image image mode=L size=64x64 at 0x7F76082C9460>, <PIL.Image.Image image mode=L size=64x64 at 0x7F75F447E280>, <PIL.Image.Image image mode=L size=64x64 at 0x7F7608C68FD0>, <PIL.Image.Image image mode=L size=64x64 at 0x7F76082C94C0>, <PIL.Image.Image image mode=L size=64x64 at 0x7F75F447E160>, <PIL.Image.Image image mode=L size=64x64 at 0x7F75F447E580>, <PIL.Image.Image image mode=L size=64x64 at 0x7F76083EC760>, <PIL.Image.Image image mode=L size=64x64 at 0x7F7608670220>, <PIL.Image.Image image mode=L size=64x64 at 0x7F75F447E4C0>, <PIL.Image.Image image mode=L size=64x64 at 0x7F75F447E5E0>, <PIL.Image.Image image mode=L size=64x64 at 0x7F75F447EAF0>, <PIL.Image.Image image mode=L size=64x64 at 0x7F75F447E430>, <PIL.Image.Image image mode=L size=64x64 at 0x7F75F447E970>, <PIL.Image.Image image mode=L size=64x64 at 0x7F760848CEE0>, <PIL.Image.Image image mode=L size=64x64 at 0x7F75F447EA60>, <PIL.Image.Image image mode=L size=64x64 at 0x7F760848C2E0>, <PIL.Image.Image image mode=L size=64x64 at 0x7F760848CCA0>, <PIL.Image.Image image mode=L size=64x64 at 0x7F760848C040>, <PIL.Image.Image image mode=L size=64x64 at 0x7F760848CE80>, <PIL.Image.Image image mode=L size=64x64 at 0x7F75F447E2E0>]\n"
          ]
        }
      ]
    },
    {
      "cell_type": "code",
      "source": [
        "from sklearn.preprocessing import StandardScaler\n",
        "\n",
        "# convert images to numpy arrays\n",
        "X = []\n",
        "for img in images:\n",
        "    X.append(np.array(img).flatten())\n",
        "X = np.array(X)\n",
        "\n",
        "# normalize dataset\n",
        "scaler = StandardScaler()\n",
        "X_normalized = scaler.fit_transform(X)\n",
        "# print(X_normalized)"
      ],
      "metadata": {
        "id": "R_NG6LuTdZuS"
      },
      "execution_count": null,
      "outputs": []
    },
    {
      "cell_type": "code",
      "source": [
        "from tensorflow.keras import layers, models\n",
        "import tensorflow as tf\n",
        "import keras\n",
        "# define CNN model\n",
        "model = models.Sequential([\n",
        "    layers.Reshape((64, 64, 1), input_shape=(4096,)),\n",
        "    layers.Conv2D(32, (3, 3), activation='relu'),\n",
        "    layers.MaxPooling2D((2, 2)),\n",
        "    layers.Conv2D(64, (3, 3), activation='relu'),\n",
        "    layers.MaxPooling2D((2, 2)),\n",
        "    layers.Conv2D(64, (3, 3), activation='relu'),\n",
        "    layers.Flatten(),\n",
        "    layers.Dense(64, activation='relu'),\n",
        "    layers.Dense(3, activation='softmax')\n",
        "])   \n",
        "\n",
        "# compile model\n",
        "model.compile(optimizer='adam',\n",
        "              loss='categorical_crossentropy',\n",
        "              metrics=['accuracy'])\n",
        "\n",
        "# train model\n",
        "y = np.array([0] * 50 + [1] * 50 + [2] * 50) # set target labels\n",
        "y_onehot = tf.one_hot(y, depth=3) # one-hot encode target labels\n",
        "X_normalized = X_normalized[:150] # taking only 150 \n",
        "model.fit(X_normalized, y_onehot, epochs=10) #model fit \n",
        "# print('Number of images loaded:', len(X_normalized)) #328\n",
        "# print('Number of labels:', y_onehot.shape[0])  #150\n",
        "# keras.utils.plot_model(model, show_shapes=True)\n",
        "test_loss, test_acc = model.evaluate(X_normalized, y_onehot)\n",
        "print('Test loss:', test_loss)\n",
        "print('Test accuracy:', test_acc)"
      ],
      "metadata": {
        "id": "kOVSBUzjdurl",
        "colab": {
          "base_uri": "https://localhost:8080/"
        },
        "outputId": "be5435d8-6a76-4e64-d54f-c701a2ba7ada"
      },
      "execution_count": null,
      "outputs": [
        {
          "output_type": "stream",
          "name": "stdout",
          "text": [
            "Epoch 1/10\n",
            "5/5 [==============================] - 3s 186ms/step - loss: 1.1849 - accuracy: 0.3400\n",
            "Epoch 2/10\n",
            "5/5 [==============================] - 1s 250ms/step - loss: 1.0552 - accuracy: 0.4267\n",
            "Epoch 3/10\n",
            "5/5 [==============================] - 2s 367ms/step - loss: 1.0022 - accuracy: 0.5200\n",
            "Epoch 4/10\n",
            "5/5 [==============================] - 4s 749ms/step - loss: 0.9476 - accuracy: 0.5800\n",
            "Epoch 5/10\n",
            "5/5 [==============================] - 4s 745ms/step - loss: 0.8813 - accuracy: 0.5733\n",
            "Epoch 6/10\n",
            "5/5 [==============================] - 3s 530ms/step - loss: 0.7965 - accuracy: 0.6467\n",
            "Epoch 7/10\n",
            "5/5 [==============================] - 3s 511ms/step - loss: 0.7089 - accuracy: 0.7133\n",
            "Epoch 8/10\n",
            "5/5 [==============================] - 3s 611ms/step - loss: 0.6296 - accuracy: 0.7600\n",
            "Epoch 9/10\n",
            "5/5 [==============================] - 3s 582ms/step - loss: 0.5782 - accuracy: 0.7867\n",
            "Epoch 10/10\n",
            "5/5 [==============================] - 2s 453ms/step - loss: 0.4122 - accuracy: 0.8867\n",
            "5/5 [==============================] - 1s 127ms/step - loss: 0.3145 - accuracy: 0.8867\n",
            "Test loss: 0.31453439593315125\n",
            "Test accuracy: 0.8866666555404663\n"
          ]
        }
      ]
    },
    {
      "cell_type": "code",
      "source": [],
      "metadata": {
        "id": "MURXVQAsSxKt"
      },
      "execution_count": null,
      "outputs": []
    },
    {
      "cell_type": "code",
      "source": [
        "# extract feature vector V1\n",
        "V1 = model.predict(X_normalized)\n",
        "print(V1.shape)"
      ],
      "metadata": {
        "id": "BOoRajogd3RA",
        "colab": {
          "base_uri": "https://localhost:8080/"
        },
        "outputId": "1a98f3e2-9ea9-4df8-d8c6-63d61c2be5b3"
      },
      "execution_count": null,
      "outputs": [
        {
          "output_type": "stream",
          "name": "stdout",
          "text": [
            "5/5 [==============================] - 0s 59ms/step\n",
            "(150, 3)\n"
          ]
        }
      ]
    },
    {
      "cell_type": "code",
      "source": [
        "# !pip install reedsolo\n",
        "from reedsolo import RSCodec\n",
        "\n",
        "# encode feature vector V using RS code\n",
        "rs = RSCodec(10)\n",
        "V_encoded = rs.encode(V1.flatten())\n",
        "print(V_encoded)"
      ],
      "metadata": {
        "id": "u3H_crXSd6mK",
        "colab": {
          "base_uri": "https://localhost:8080/"
        },
        "outputId": "cbe9a4ae-7b77-4104-f19f-dfda9c481526"
      },
      "execution_count": null,
      "outputs": [
        {
          "output_type": "stream",
          "name": "stdout",
          "text": [
            "bytearray(b'\\xff\\xff\\x7f?\\x85\\xd1\\x86#t\\x8a\\xe11_\\xff\\x7f?H\\x94U/\\xf22 7\\xff\\xff\\x7f?\\xea\\xde\\xe8#\\xee\\xdc\\x02-t\\xf6\\x7f?m\\xa7n5\\xe9\\xfd\\x179\\x8b\\xfd\\x7f?[\\x04\\xd7-a\\xd7\\x1c8\\xe7\\xfb\\x7f?%\\xe3z/?\\xe8\\x828\\xb3\\xff\\x7f?~p\\xf9\\'\\xfb\\x00\\x966\\xa0\\xf1\\x7f?\\xc2x\\xae54\\xb3d9\\xff\\xff\\x7f?\\xdfc{/\\xba~\\xc32p\\xf0\\x7f?\\xf3rg5\\xb2,x9\\xdd\\xff\\x7f?z\\xa2\\x912f\\xfe\\x0b6\\x87\\xfb\\x7f?\\xa1\\x89\\x843&\\xd1\\x8e8\\xf9\\xff\\x7f?\\x9a-\\x9d47L54\\xdd\\xf8\\x7f?\\xce5|8{?L8\\xb1\\xfd\\x7f?\\x17]\\x06+h\\x87\\x138\\xa3\\xfc\\x7f?N\\n\\x911\\xf3\\xcdV8K\\xfc\\x7f?\\x8d1k8v\\xe3\\xe74\\xf3\\xff\\x7f?\\x1e\\xc7(1L\\x07@5\\xa7\\xfb\\x7f?\\x95\\xd0\\x877\\x8d\\xddQ8_\\xfb\\x7f?`\\xef\\xae7z\\xb5P8\\xff\\xff\\x7f?\\x8c{|*\\x8d\\xc6\\x9a*L\\xf6\\x7f?\\xf2\\x04\\xc68#\\xf8`8\\xb5\\xfe\\x7f?\\xfch<.\\x18\\xa5\\xa47u\\xff\\x7f?\\x1ex\\xdd-h[\\t7\\xff\\xff\\x7f?_@-0|\\x85\\x89.\\xff\\xff\\x7f?%Mt,\\x14e\\x0e2\\xd5\\xfc\\x7f?`\\xa2\\xce2\\xa6{J8K\\xff\\x7f?@\\xd0&6\\xdeM\\n7\\xa9\\xfc\\x7f?Q\\xa5C2ETU8\\x10\\xf0\\x7f?\\xd0\\x89\\x886\\xe7\\xa2z9C\\xff\\x7f?|_\\x035\\xff\\xd337\\xa9\\xfe\\x7f?{^94\\xe4\\x81\\xa97\\xff\\xff\\x7f?\\xe10\\x0c.tM\\xed1;\\xfb\\x7f?c\\xa9\\x888\\xc9\\xd7\\xfd6w\\xff\\x7f?\\xf2@\\xb51\\x14\\x1d\\x087\\xff\\xff\\x7f?\\xb3>\\x8a(\\x9f\\xd8\\x9e/\\xad\\xff\\x7f?\\xaas\\xa05C\\x1av6\\x0b\\xff\\x7f?N\\x0bh7\\xa6\\xa515)\\xfd\\x7f?\\xe0`G5[g28|\\xf0\\x7f?9\\x1454\\x9f\\x1cx9\\xff\\xff\\x7f?c;1\\'\\xb6\\xd6\\x1926\\xe8\\x7f?[\\x06y5w\\xd1\\xbd9w\\xff\\x7f?\\xd9$\\x896\"\\xbb\\x876\"\\xea\\x7f?<\\x06P6WU\\xad9\\x93\\xfe\\x7f?^8\\x8c+\\xf5\\xcd\\xb57\\x81\\xfa\\x7f?\\xae\\xd7\\x078.=W8/\\xff\\x7f?6\\xb0O7\\x17\\xf1\\xb62\\xb9\\xfe\\x7f?Lj\\xab1\\x81A\\xa37\\xf7\\xfa\\x7f?\\xe0T\\\\7\\x05}\\x858w\\xfa\\x7f?G\\xa4\\x107\\x11\\x15\\x9f8|%\\x850\\xf1\\xff\\x7f?B\\xcd\\\\5fh\\xa58\\xcf\\xe0\\x7f?q%\\xd09\\xc2\\x028-\\xff\\xff\\x7f?\\xb3\\x80K/j\\xad\\xd4$\\x99\\xfe\\x7f?\\x01\\xb2\\xb27\\'\\x9d\\xf18\\xb8\\xf4\\x7f?tKn8d:I3\\xd9\\xff\\x7f?IU\\x1a6\\xa2L\\xe83\\xfd\\xff\\x7f?\\xfe\\x86r2\\xced\\x82#\\x8d\\xfa\\x7f?\\rX\\xae8w$\\x9f3\\xfd\\xff\\x7f?b\\xee\\xc4/\\xdb}\\x158\\xe1\\xfb\\x7f?\\xa0\\xe6\\xe37\\x95\\x01\\xd94K\\xff\\x7f?3\\xc0-7&\\xe1I8%\\xfa\\x7f?0\\xa6,8\\x96\\xbe,0\\xef\\xff\\x7f?b=\\x855\\xad5\\xce2\\x07\\xfe\\x7f?\\xf5t\\xfc7\\xabl\\x808\\xf9\\xfb\\x7f??\\xeb\\xbd3\\xc2>\\x997\\xcd\\xfe\\x7f?\\xf8\\xb5\\xaa2\\xfd\\xb8\\x886S\\xff\\x7f?b\\xdc\\xd16\\xb4=](\\xa0\\xf4\\x7f?\\x93\\r69}\\xe7\\xc34\\xc9\\xf9\\x7f?c\\xec\\xc58\\xb3D\\x038\\xeb\\xfd\\x7f?~\\xa1\\xa44\\xe8\\xdf-+\\xff\\xff\\x7f?\\x92:\\xae0\\xed\\xc1^7]\\xfa\\x7f?\\x91j\\x988\\xe1P\\xb82\\xff\\xff\\x7f?\\xd6\\xac\\xf6/U\\xff\\xca\"\\x97\\xfe\\x7f?\\x88\\x92\\xb37\\xdf\"C0!\\xfc\\x7f?\\xdejw8~\\\\\\x884W\\xff\\x7f?\\xe3u#7m\\xf6\\x0e3\\x19\\xff\\x7f?\\xa5\\x02f7`\\'i4\\xa3\\xff\\x7f?\\x0f\\x16\\xae6w\\xc6\\xc28\\x01\\xf8\\x7f?\\xd5.\\xf47`x\\xc3-\\x9d\\xf8\\x7f?\\xabB\\xec8\\x8b\\xee\\xec4\\xf7\\xff\\x7f?\\xa0\\x16\\xf10\\xd0\\xb5D8\\xe0\\xf5\\x7f?\\xfd$\\xc4i\\xf3\\x01\\x92\\xd3\\xd5\\x01.\\xcd\\xe18\\x9b\\xbe\\xc2\\'\\xff\\xff\\x7f?m-\\x83/\\x1e\\'V-\\xc3\\xff\\x7f?D\\xacs6\\x14\\xaa55\\xf1\\xff\\x7f?cL\\xd03:\\xb1^4\\xfb\\xff\\x7f?\\xed\\xeau3\\xc3~*4\\xfd\\xff\\x7f?1R\\xf01I\\xf7\\r.\\xf1\\xfd\\x7f?\\x1c\\xbc\\x038FE\\x137%\\xff\\x7f?;k\\x8a6\\xc8 \\xf6,\\x8c\\xf5\\x7f?he\\'9\\x82\\xb7\\x1c/\\xd1\\xff\\x7f?a\\xff86\\xb2\\xe3G4k\\xfb\\x7f?F\\xf2\\x918\\x9fiW8\\x87\\xfc\\x7f?\\x9et\\xcf59\\xec\\x9f3\\xc9\\xfe\\x7f?\\x17\\xb3\\x997.\\xf1\\xf13\\xf1\\xff\\x7f?\\xaa\\xb5G5\\xb2\\xfc-/\\xfd\\xff\\x7f?\\x13\\x89:4\\x9a\\xe7\\x967\\x9b\\xfc\\x7f?u\\x94\\r8\\xdb\\x87\\xbd\\x1b\\xff\\xff\\x7f?\\xde\\x95\\xda-\\xeb\\xae\\xd58Q\\xf9\\x7f?3Y\\x003W\\xf2 1\\xd1\\xfc\\x7f?\\x85ZK8\\x8b\\x00\\x0f9\\x02>\\xfd8&\\xef\\x7f?r\\x1a48\\xabm\\xa85\\x19\\xfd\\x7f?<\\xb0g.\\xa3\\xe8_8\\x7f\\xfc\\x7f?\\x1d\\x10\\n8\\xd2k\\xb08S\\xf8\\x7f?\\xda\\xf1N7\\xa8\\xc8\\xbe2/\\xff\\x7f?_\\tL47\\x91\\xd47S\\xfe\\x7f?}\\x0b\\'8\\x0f\\x15.9\\x84\\xf2\\x7f?\\x8dm\\x087\\xb8t\\x8e4s\\xff\\x7f?3p\\x918\\xe4\\x8298\\x8d\\xf8\\x7f?\\x98M\\x866\\x84\\x00?8\\xbf\\xfc\\x7f?\\x04\\xb7\\x8a8f\\xac\\x8d3\\xa9\\xfb\\x7f?\\xe3\\x8c\\x808\\x86$\\xc62\\xfb\\xfb\\x7f?\\x7f3\\xf66{\\xc9q7\\x93\\xfe\\x7f?\\x19\\x8bo9\\'\\t\\x9e8\\x18\\xec\\x7f?\\xca\\x10\\xb287\\xb6\\x148\\x1b\\xf8\\x7f?Jy\\x839_\\xfdf9!\\xe1\\x7f?\\xf0q=9\\x93\\xfc\\xe82(\\xf4\\x7f?\\x9b\\x80\\x089\\x82\\x0bT4t\\xf7\\x7f?l\\xed\\x895\\x99\\x1f}6\\xaf\\xff\\x7f?\\x894!8`\\xa4\\xd17\\xd7\\xfb\\x7f?\\xc3\\xafY4\\x92R\\x190\\xfb\\xff\\x7f?\"\\xa8\\xd66cr|6U\\xff\\x7f?\\xf6\\xbb\\xac7U\\xea#4\\xa3\\xfe\\x7f?\\x1a\\xf8\\xb72+\\x96\\xd86\\x93\\xff\\x7f?\\xe4\\x80`4M(\\x9d9X\\xec\\x7f?G\\x98\\x049h\\xd2i2\\xb8\\xf7\\x7f?\\xb4so8\\x87-\\x9a6\\xf5\\xfb\\x7f? \\xfa\\xd57\\x1av\\x9c7\\x1b\\xfd\\x7f?\\x08r\\xa16\\x93\\xbc\\n9\\x04\\xf7\\x7f?\\xbed\\xfd2\\x82l\\xb88;\\xfa\\x7f?\\xda\\xe3\\xf34\\xd1Z\\xde6\\x89\\xff\\x7f?\\xb7\\xcf\\x0b8\\x06I2/\\xcf\\xfd\\x7f?\\xe4\\xc149}6\\x087,\\xf4\\x7f?U\\x89#6\\x01\\xe7l7\\xe9\\xfe\\x7f?\\xae\\xcf\\x139\\x04QN8\\x8c\\xf3\\x7f?\\x0cn\\xb30\\xcd\\xb4\\xfe6\\x7f\\xff\\x7f?\\rG\\x8d7)Y\\xb4/\\xe5\\xfe\\x7f?\\xa9B\\x10(\\xd6\\xd5b6\\xc7\\xff\\x7f?n\\x85\\x837\\x80\\xbe}8\\x01\\xfb\\x7f?\\x99\\x19\\xd60\\x94\\xb2\\xfb6\\x81\\xff\\x7f?\\x9b\\\\\\x8b0\\xe1Y<8\\r\\xfd\\x7f?\\xe6~\\x91/\\x95\\x89\\xd08{\\xf9\\x7f?\\xa9\\xb4\\xc56+Gt8\\xcb\\xfb\\x7f?F\\xb8\\xe86\\x95\\xc6l6O\\xff\\x7f?g\\xc2g8\\xf5\\x8f\\xf03`\\xfc\\x7f?\\xd8\\x0c\\xcb6\\xe3\\xc4\\xbd7\\x1e\\xfe\\x7f?AsZ+c\\xbf\\xbf4\\xfa\\xff\\x7f?\\xbaY\\n/Er\\x904\\xfc\\xff\\x7f?1\\xaa\\xaa4,\\xad79\\x81\\xf4\\x7f?1T\\x036\\x98\\x943,\\xe0\\xff\\x7f?\\xa4\\xa4m\\xe0\\n\\xda6\\x92\\x18\\xb5')\n"
          ]
        }
      ]
    },
    {
      "cell_type": "code",
      "source": [
        "# encrypt image using XOR operation\n",
        "img = Image.open(os.path.join(image_folder, '1-556.JPG')).convert('L') # load example image\n",
        "img = img.resize((64, 64)) # resize image to 64x64 pixels\n",
        "X = np.array(img).flatten() # convert image to numpy array\n",
        "X_normalized = scaler.transform(X.reshape(1, -1)) # normalize image\n",
        "\n",
        "V2 = model.predict(X_normalized) # extract feature vector V2\n",
        "V_encoded = rs.encode(V2.flatten()) # encode feature vector V2 using RS code\n",
        "key = V_encoded\n",
        "print(key)"
      ],
      "metadata": {
        "id": "2bCRWQlvd9iK",
        "colab": {
          "base_uri": "https://localhost:8080/"
        },
        "outputId": "3e63e7d6-e76c-449f-cdad-d17917d3b44c"
      },
      "execution_count": null,
      "outputs": [
        {
          "output_type": "stream",
          "name": "stdout",
          "text": [
            "1/1 [==============================] - 0s 173ms/step\n",
            "bytearray(b'\\xb9\\xfc|?&\\xc4{;\\xac\\xe0\\x01<Z+\\xff\\xa9\\x8a\\xad\\xf4\\xcf`\\x8e')\n"
          ]
        }
      ]
    },
    {
      "cell_type": "code",
      "source": [
        "img = Image.open(os.path.join(image_folder, '1-556.JPG')).convert('L') # load example image\n",
        "img = img.resize((64, 64)) # resize image to 64x64 pixels\n",
        "X = np.array(img).flatten() # convert image to numpy array\n",
        "\n",
        "# reshape key to match the shape of X\n",
        "key_reshaped = np.tile(key, len(X) // len(key) + 1)[:len(X)]\n",
        "\n",
        "# encrypt the image using XOR operation\n",
        "X_encrypted = bytearray(X ^ key_reshaped)\n",
        "\n",
        "# save the encrypted image\n",
        "img_encrypted = Image.frombytes('L', (64, 64), bytes(X_encrypted))\n",
        "img_encrypted.save(os.path.join(image_folder, 'Rajan.jpg'))\n"
      ],
      "metadata": {
        "id": "1vM9iOjchkfJ"
      },
      "execution_count": null,
      "outputs": []
    },
    {
      "cell_type": "code",
      "source": [],
      "metadata": {
        "id": "vHdbD8ejiA5Q"
      },
      "execution_count": null,
      "outputs": []
    }
  ]
}